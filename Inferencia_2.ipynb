{
  "nbformat": 4,
  "nbformat_minor": 0,
  "metadata": {
    "celltoolbar": "Slideshow",
    "kernelspec": {
      "display_name": "R",
      "language": "R",
      "name": "ir"
    },
    "language_info": {
      "codemirror_mode": "r",
      "file_extension": ".r",
      "mimetype": "text/x-r-source",
      "name": "R",
      "pygments_lexer": "r",
      "version": "4.0.0"
    },
    "colab": {
      "name": "Copia de Inferencia.ipynb",
      "provenance": [],
      "collapsed_sections": []
    }
  },
  "cells": [
    {
      "cell_type": "markdown",
      "metadata": {
        "id": "qmD-k2v2bi4k",
        "colab_type": "text"
      },
      "source": [
        "# INFERENCIA ESTADÍSTICA\n",
        "\n",
        "Por lo general, contamos con recursos limitados (ya sea tiempo o dinero). Estas limitaciones no permiten que un censo se realice con frecuencia; por lo tanto, requerimos de trabajar con una muestra y calcular los parámetros poblacionales a partir de la misma."
      ]
    },
    {
      "cell_type": "markdown",
      "metadata": {
        "id": "W0co_faSbi4l",
        "colab_type": "text"
      },
      "source": [
        "## Estimación de Parámetros. Estimadores\n",
        "\n",
        "Los parámetros a estimar, básicamente, son dos: media y varianza.\n",
        "\n",
        "Si la muestra es representativa, la media y la varianza poblacionales corresponderán a la media y varianza muestrales. Por lo que los valores encontrados corresponderán a una probabilidad.\n",
        "\n",
        "La función de la media poblacional es:\n",
        "\n",
        "$$\n",
        "{\\large\n",
        "\\mu = \\frac{\\sum_{i=1}^{N} X_{i}}{N}\n",
        "}\n",
        "$$\n",
        "\n",
        "y la muestral es:\n",
        "\n",
        "$$\n",
        "{\\large\n",
        "\\overline{x} = \\frac{\\sum_{i=1}^{n} x_{i}}{n}\n",
        "}\n",
        "$$\n",
        "\n",
        "Básicamente, se calculan de la misma manera."
      ]
    },
    {
      "cell_type": "markdown",
      "metadata": {
        "id": "5W_opjh-bi4m",
        "colab_type": "text"
      },
      "source": [
        "Cuando se calcula la varianza, sí se observa una diferencia sustancial:\n",
        "\n",
        "Varianza Poblacional:\n",
        "\n",
        "$$\n",
        "{\\large\n",
        "\\sigma^{2} = \\frac{\\sum_{i=1}^{N} \\left( X_{i} - \\mu \\right)^{2}}{N}\n",
        "}\n",
        "$$\n",
        "\n",
        "Varianza Muestral\n",
        "\n",
        "$$\n",
        "{\\large\n",
        "S^{2} = \\frac{\\sum_{i=1}^{n} \\left( x_{i} - \\overline{x} \\right)^{2}}{n-1}\n",
        "}\n",
        "$$"
      ]
    },
    {
      "cell_type": "markdown",
      "metadata": {
        "id": "ejXEmj6bbi4m",
        "colab_type": "text"
      },
      "source": [
        "### Ejemplo\n",
        "\n",
        "Vamos a continuar con el ejemplo de las edades de los estudiantes. Como ya conocemos la población, vamos a usarlo como referencia para comprobar la precisión:"
      ]
    },
    {
      "cell_type": "code",
      "metadata": {
        "id": "v9hC5kVKbi4n",
        "colab_type": "code",
        "colab": {}
      },
      "source": [
        "load(url('https://www.dropbox.com/s/h652szo4gfkhq7k/estudiantes.RData?dl=1'))"
      ],
      "execution_count": 0,
      "outputs": []
    },
    {
      "cell_type": "code",
      "metadata": {
        "id": "jqU7EQ2Sbi4q",
        "colab_type": "code",
        "outputId": "3bd94f78-88cb-46ff-8d1d-743a8178854a",
        "colab": {
          "base_uri": "https://localhost:8080/",
          "height": 204
        }
      },
      "source": [
        "edades<-poblacion[,c(2,5,15)]\n",
        "head(edades)"
      ],
      "execution_count": 2,
      "outputs": [
        {
          "output_type": "display_data",
          "data": {
            "text/plain": [
              "  SEXO_BIOLOGICO EDAD FACULTAD\n",
              "1 HOMBRE         30   CIENCIAS\n",
              "2 HOMBRE         26   CIENCIAS\n",
              "3 HOMBRE         30   CIENCIAS\n",
              "4 HOMBRE         28   CIENCIAS\n",
              "5 MUJER          28   CIENCIAS\n",
              "6 MUJER          28   CIENCIAS"
            ],
            "text/latex": "A data.frame: 6 × 3\n\\begin{tabular}{r|lll}\n  & SEXO\\_BIOLOGICO & EDAD & FACULTAD\\\\\n  & <fct> & <int> & <fct>\\\\\n\\hline\n\t1 & HOMBRE & 30 & CIENCIAS\\\\\n\t2 & HOMBRE & 26 & CIENCIAS\\\\\n\t3 & HOMBRE & 30 & CIENCIAS\\\\\n\t4 & HOMBRE & 28 & CIENCIAS\\\\\n\t5 & MUJER  & 28 & CIENCIAS\\\\\n\t6 & MUJER  & 28 & CIENCIAS\\\\\n\\end{tabular}\n",
            "text/markdown": "\nA data.frame: 6 × 3\n\n| <!--/--> | SEXO_BIOLOGICO &lt;fct&gt; | EDAD &lt;int&gt; | FACULTAD &lt;fct&gt; |\n|---|---|---|---|\n| 1 | HOMBRE | 30 | CIENCIAS |\n| 2 | HOMBRE | 26 | CIENCIAS |\n| 3 | HOMBRE | 30 | CIENCIAS |\n| 4 | HOMBRE | 28 | CIENCIAS |\n| 5 | MUJER  | 28 | CIENCIAS |\n| 6 | MUJER  | 28 | CIENCIAS |\n\n",
            "text/html": [
              "<table>\n",
              "<caption>A data.frame: 6 × 3</caption>\n",
              "<thead>\n",
              "\t<tr><th></th><th scope=col>SEXO_BIOLOGICO</th><th scope=col>EDAD</th><th scope=col>FACULTAD</th></tr>\n",
              "\t<tr><th></th><th scope=col>&lt;fct&gt;</th><th scope=col>&lt;int&gt;</th><th scope=col>&lt;fct&gt;</th></tr>\n",
              "</thead>\n",
              "<tbody>\n",
              "\t<tr><th scope=row>1</th><td>HOMBRE</td><td>30</td><td>CIENCIAS</td></tr>\n",
              "\t<tr><th scope=row>2</th><td>HOMBRE</td><td>26</td><td>CIENCIAS</td></tr>\n",
              "\t<tr><th scope=row>3</th><td>HOMBRE</td><td>30</td><td>CIENCIAS</td></tr>\n",
              "\t<tr><th scope=row>4</th><td>HOMBRE</td><td>28</td><td>CIENCIAS</td></tr>\n",
              "\t<tr><th scope=row>5</th><td>MUJER </td><td>28</td><td>CIENCIAS</td></tr>\n",
              "\t<tr><th scope=row>6</th><td>MUJER </td><td>28</td><td>CIENCIAS</td></tr>\n",
              "</tbody>\n",
              "</table>\n"
            ]
          },
          "metadata": {
            "tags": []
          }
        }
      ]
    },
    {
      "cell_type": "code",
      "metadata": {
        "id": "C3moZSVH-mnB",
        "colab_type": "code",
        "outputId": "3ad4c989-2b51-4c9d-897c-ef9eb6a62602",
        "colab": {
          "base_uri": "https://localhost:8080/",
          "height": 153
        }
      },
      "source": [
        "summary(edades)"
      ],
      "execution_count": 3,
      "outputs": [
        {
          "output_type": "display_data",
          "data": {
            "text/plain": [
              " SEXO_BIOLOGICO      EDAD              FACULTAD   \n",
              " HOMBRE:13275   Min.   :16   C. HUMANAS    :4115  \n",
              " MUJER :10765   1st Qu.:19   CEDEDUIS      :  19  \n",
              "                Median :22   CIENCIAS      :1661  \n",
              "                Mean   :23   F.MEC\\xc1NICAS:8982  \n",
              "                3rd Qu.:24   F.QU\\xcdMICAS :4259  \n",
              "                Max.   :85   IPRED         :3129  \n",
              "                             SALUD         :1875  "
            ]
          },
          "metadata": {
            "tags": []
          }
        }
      ]
    },
    {
      "cell_type": "code",
      "metadata": {
        "id": "iOpY7VHybi4t",
        "colab_type": "code",
        "colab": {
          "base_uri": "https://localhost:8080/",
          "height": 119
        },
        "outputId": "96312e0e-9aa4-4ea8-ebce-31413b8c61af"
      },
      "source": [
        "install.packages('samplingbook')"
      ],
      "execution_count": 5,
      "outputs": [
        {
          "output_type": "stream",
          "text": [
            "Installing package into ‘/usr/local/lib/R/site-library’\n",
            "(as ‘lib’ is unspecified)\n",
            "\n",
            "also installing the dependencies ‘lpSolve’, ‘minqa’, ‘numDeriv’, ‘mitools’, ‘pps’, ‘sampling’, ‘survey’\n",
            "\n",
            "\n"
          ],
          "name": "stderr"
        }
      ]
    },
    {
      "cell_type": "code",
      "metadata": {
        "id": "tgas5ki-bi4w",
        "colab_type": "code",
        "colab": {
          "base_uri": "https://localhost:8080/",
          "height": 527
        },
        "outputId": "f874a3b9-3153-4fec-ed07-54772049ff07"
      },
      "source": [
        "library(samplingbook) # Para calcular el tamaño de la muestra"
      ],
      "execution_count": 6,
      "outputs": [
        {
          "output_type": "stream",
          "text": [
            "Loading required package: pps\n",
            "\n",
            "Loading required package: sampling\n",
            "\n",
            "Loading required package: survey\n",
            "\n",
            "Loading required package: grid\n",
            "\n",
            "Loading required package: Matrix\n",
            "\n",
            "Loading required package: survival\n",
            "\n",
            "\n",
            "Attaching package: ‘survival’\n",
            "\n",
            "\n",
            "The following objects are masked from ‘package:sampling’:\n",
            "\n",
            "    cluster, strata\n",
            "\n",
            "\n",
            "\n",
            "Attaching package: ‘survey’\n",
            "\n",
            "\n",
            "The following object is masked from ‘package:graphics’:\n",
            "\n",
            "    dotchart\n",
            "\n",
            "\n"
          ],
          "name": "stderr"
        }
      ]
    },
    {
      "cell_type": "code",
      "metadata": {
        "id": "eS1faOUtbi4y",
        "colab_type": "code",
        "outputId": "a8c79eb8-76e2-46d3-ccbe-74ae73fee20b",
        "colab": {
          "base_uri": "https://localhost:8080/",
          "height": 1000
        }
      },
      "source": [
        "tamaño<-sample.size.prop(e=0.05, P = 0.5, N = length(edades$EDAD), level = 0.95)$n # Vamos a usar P = 0.5\n",
        "muestra<-sample(1:length(edades$EDAD), size = tamaño, replace = FALSE) # Diseñamos un M.A.S.\n",
        "mas.edades<-edades[muestra,] # Tenemos la muestra\n",
        "head(mas.edades)"
      ],
      "execution_count": 7,
      "outputs": [
        {
          "output_type": "stream",
          "text": [
            "Warning message in FUN(X[[i]], ...):\n",
            "“input string 3 is invalid in this locale”\n",
            "Warning message in FUN(X[[i]], ...):\n",
            "“input string 3 is invalid in this locale”\n",
            "Warning message in FUN(X[[i]], ...):\n",
            "“input string 3 is invalid in this locale”\n",
            "Warning message in FUN(X[[i]], ...):\n",
            "“input string 3 is invalid in this locale”\n",
            "Warning message in FUN(X[[i]], ...):\n",
            "“input string 3 is invalid in this locale”\n",
            "Warning message in FUN(X[[i]], ...):\n",
            "“input string 3 is invalid in this locale”\n",
            "Warning message in FUN(X[[i]], ...):\n",
            "“input string 3 is invalid in this locale”\n",
            "Warning message in FUN(X[[i]], ...):\n",
            "“input string 3 is invalid in this locale”\n",
            "Warning message in FUN(X[[i]], ...):\n",
            "“input string 3 is invalid in this locale”\n",
            "Warning message in FUN(X[[i]], ...):\n",
            "“input string 3 is invalid in this locale”\n",
            "Warning message in FUN(X[[i]], ...):\n",
            "“input string 3 is invalid in this locale”\n",
            "Warning message in FUN(X[[i]], ...):\n",
            "“input string 3 is invalid in this locale”\n",
            "Warning message in FUN(X[[i]], ...):\n",
            "“input string 3 is invalid in this locale”\n",
            "Warning message in FUN(X[[i]], ...):\n",
            "“input string 3 is invalid in this locale”\n",
            "Warning message in FUN(X[[i]], ...):\n",
            "“input string 3 is invalid in this locale”\n",
            "Warning message in FUN(X[[i]], ...):\n",
            "“input string 3 is invalid in this locale”\n",
            "Warning message in FUN(X[[i]], ...):\n",
            "“input string 3 is invalid in this locale”\n",
            "Warning message in FUN(X[[i]], ...):\n",
            "“input string 3 is invalid in this locale”\n",
            "ERROR while rich displaying an object: Error in gsub(chr, html_specials[[chr]], text, fixed = TRUE): input string 3 is invalid in this locale\n",
            "\n",
            "Traceback:\n",
            "1. FUN(X[[i]], ...)\n",
            "2. tryCatch(withCallingHandlers({\n",
            " .     if (!mime %in% names(repr::mime2repr)) \n",
            " .         stop(\"No repr_* for mimetype \", mime, \" in repr::mime2repr\")\n",
            " .     rpr <- repr::mime2repr[[mime]](obj)\n",
            " .     if (is.null(rpr)) \n",
            " .         return(NULL)\n",
            " .     prepare_content(is.raw(rpr), rpr)\n",
            " . }, error = error_handler), error = outer_handler)\n",
            "3. tryCatchList(expr, classes, parentenv, handlers)\n",
            "4. tryCatchOne(expr, names, parentenv, handlers[[1L]])\n",
            "5. doTryCatch(return(expr), name, parentenv, handler)\n",
            "6. withCallingHandlers({\n",
            " .     if (!mime %in% names(repr::mime2repr)) \n",
            " .         stop(\"No repr_* for mimetype \", mime, \" in repr::mime2repr\")\n",
            " .     rpr <- repr::mime2repr[[mime]](obj)\n",
            " .     if (is.null(rpr)) \n",
            " .         return(NULL)\n",
            " .     prepare_content(is.raw(rpr), rpr)\n",
            " . }, error = error_handler)\n",
            "7. repr::mime2repr[[mime]](obj)\n",
            "8. repr_markdown.data.frame(obj)\n",
            "9. repr_matrix_generic(obj, \"\\n%s\\n\\n%s%s\\n\", sprintf(\"|%%s\\n|%s|\\n\", \n",
            " .     underline), NULL, \" <!--/--> |\", \" %s |\", \"%s\", \"|%s\\n\", \n",
            " .     \" %s |\", \" %s |\", escape_fun = markdown_escape, rows = rows, \n",
            " .     cols = cols, ...)\n",
            "10. lapply(seq_len(nrow(x)), function(r) {\n",
            "  .     row <- escape_fun(slice_row(x, r))\n",
            "  .     cells <- sprintf(cell, row)\n",
            "  .     if (has_rownames) {\n",
            "  .         row_head <- sprintf(row_head, escape_fun(rownames(x)[[r]]))\n",
            "  .         cells <- c(row_head, cells)\n",
            "  .     }\n",
            "  .     sprintf(row_wrap, paste(cells, collapse = \"\"))\n",
            "  . })\n",
            "11. FUN(X[[i]], ...)\n",
            "12. escape_fun(slice_row(x, r))\n",
            "13. html_escape(values, do_spaces = FALSE)\n",
            "14. gsub(chr, html_specials[[chr]], text, fixed = TRUE)\n",
            "Warning message in FUN(X[[i]], ...):\n",
            "“input string 3 is invalid in this locale”\n",
            "Warning message in FUN(X[[i]], ...):\n",
            "“input string 3 is invalid in this locale”\n",
            "Warning message in FUN(X[[i]], ...):\n",
            "“input string 3 is invalid in this locale”\n",
            "Warning message in FUN(X[[i]], ...):\n",
            "“input string 3 is invalid in this locale”\n",
            "Warning message in FUN(X[[i]], ...):\n",
            "“input string 3 is invalid in this locale”\n",
            "Warning message in FUN(X[[i]], ...):\n",
            "“input string 3 is invalid in this locale”\n",
            "Warning message in FUN(X[[i]], ...):\n",
            "“input string 3 is invalid in this locale”\n",
            "Warning message in FUN(X[[i]], ...):\n",
            "“input string 3 is invalid in this locale”\n",
            "Warning message in FUN(X[[i]], ...):\n",
            "“input string 3 is invalid in this locale”\n",
            "Warning message in FUN(X[[i]], ...):\n",
            "“input string 3 is invalid in this locale”\n",
            "Warning message in FUN(X[[i]], ...):\n",
            "“input string 3 is invalid in this locale”\n",
            "Warning message in FUN(X[[i]], ...):\n",
            "“input string 3 is invalid in this locale”\n",
            "Warning message in FUN(X[[i]], ...):\n",
            "“input string 3 is invalid in this locale”\n",
            "Warning message in FUN(X[[i]], ...):\n",
            "“input string 3 is invalid in this locale”\n",
            "Warning message in FUN(X[[i]], ...):\n",
            "“input string 3 is invalid in this locale”\n",
            "Warning message in FUN(X[[i]], ...):\n",
            "“input string 3 is invalid in this locale”\n",
            "Warning message in FUN(X[[i]], ...):\n",
            "“input string 3 is invalid in this locale”\n",
            "Warning message in FUN(X[[i]], ...):\n",
            "“input string 3 is invalid in this locale”\n",
            "Warning message in FUN(X[[i]], ...):\n",
            "“input string 3 is invalid in this locale”\n",
            "Warning message in FUN(X[[i]], ...):\n",
            "“input string 3 is invalid in this locale”\n",
            "Warning message in FUN(X[[i]], ...):\n",
            "“input string 3 is invalid in this locale”\n",
            "Warning message in FUN(X[[i]], ...):\n",
            "“input string 3 is invalid in this locale”\n",
            "Warning message in FUN(X[[i]], ...):\n",
            "“input string 3 is invalid in this locale”\n",
            "Warning message in FUN(X[[i]], ...):\n",
            "“input string 3 is invalid in this locale”\n",
            "Warning message in FUN(X[[i]], ...):\n",
            "“input string 3 is invalid in this locale”\n",
            "Warning message in FUN(X[[i]], ...):\n",
            "“input string 3 is invalid in this locale”\n",
            "Warning message in FUN(X[[i]], ...):\n",
            "“input string 3 is invalid in this locale”\n",
            "Warning message in FUN(X[[i]], ...):\n",
            "“input string 3 is invalid in this locale”\n",
            "Warning message in FUN(X[[i]], ...):\n",
            "“input string 3 is invalid in this locale”\n",
            "Warning message in FUN(X[[i]], ...):\n",
            "“input string 3 is invalid in this locale”\n",
            "Warning message in FUN(X[[i]], ...):\n",
            "“input string 3 is invalid in this locale”\n",
            "Warning message in FUN(X[[i]], ...):\n",
            "“input string 3 is invalid in this locale”\n",
            "Warning message in FUN(X[[i]], ...):\n",
            "“input string 3 is invalid in this locale”\n",
            "Warning message in FUN(X[[i]], ...):\n",
            "“input string 3 is invalid in this locale”\n",
            "Warning message in FUN(X[[i]], ...):\n",
            "“input string 3 is invalid in this locale”\n",
            "Warning message in FUN(X[[i]], ...):\n",
            "“input string 3 is invalid in this locale”\n",
            "Warning message in FUN(X[[i]], ...):\n",
            "“input string 3 is invalid in this locale”\n",
            "Warning message in FUN(X[[i]], ...):\n",
            "“input string 3 is invalid in this locale”\n",
            "Warning message in FUN(X[[i]], ...):\n",
            "“input string 3 is invalid in this locale”\n",
            "Warning message in FUN(X[[i]], ...):\n",
            "“input string 3 is invalid in this locale”\n",
            "Warning message in FUN(X[[i]], ...):\n",
            "“input string 3 is invalid in this locale”\n",
            "Warning message in FUN(X[[i]], ...):\n",
            "“input string 3 is invalid in this locale”\n",
            "Warning message in FUN(X[[i]], ...):\n",
            "“input string 3 is invalid in this locale”\n",
            "Warning message in FUN(X[[i]], ...):\n",
            "“input string 3 is invalid in this locale”\n",
            "Warning message in FUN(X[[i]], ...):\n",
            "“input string 3 is invalid in this locale”\n",
            "Warning message in FUN(X[[i]], ...):\n",
            "“input string 3 is invalid in this locale”\n",
            "Warning message in FUN(X[[i]], ...):\n",
            "“input string 3 is invalid in this locale”\n",
            "Warning message in FUN(X[[i]], ...):\n",
            "“input string 3 is invalid in this locale”\n",
            "Warning message in FUN(X[[i]], ...):\n",
            "“input string 3 is invalid in this locale”\n",
            "Warning message in FUN(X[[i]], ...):\n",
            "“input string 3 is invalid in this locale”\n",
            "Warning message in FUN(X[[i]], ...):\n",
            "“input string 3 is invalid in this locale”\n",
            "Warning message in FUN(X[[i]], ...):\n",
            "“input string 3 is invalid in this locale”\n",
            "Warning message in FUN(X[[i]], ...):\n",
            "“input string 3 is invalid in this locale”\n",
            "Warning message in FUN(X[[i]], ...):\n",
            "“input string 3 is invalid in this locale”\n",
            "Warning message in FUN(X[[i]], ...):\n",
            "“input string 3 is invalid in this locale”\n",
            "Warning message in FUN(X[[i]], ...):\n",
            "“input string 3 is invalid in this locale”\n",
            "Warning message in FUN(X[[i]], ...):\n",
            "“input string 3 is invalid in this locale”\n",
            "Warning message in FUN(X[[i]], ...):\n",
            "“input string 3 is invalid in this locale”\n",
            "Warning message in FUN(X[[i]], ...):\n",
            "“input string 3 is invalid in this locale”\n",
            "Warning message in FUN(X[[i]], ...):\n",
            "“input string 3 is invalid in this locale”\n",
            "Warning message in FUN(X[[i]], ...):\n",
            "“input string 3 is invalid in this locale”\n",
            "Warning message in FUN(X[[i]], ...):\n",
            "“input string 3 is invalid in this locale”\n",
            "Warning message in FUN(X[[i]], ...):\n",
            "“input string 3 is invalid in this locale”\n",
            "Warning message in FUN(X[[i]], ...):\n",
            "“input string 3 is invalid in this locale”\n",
            "Warning message in FUN(X[[i]], ...):\n",
            "“input string 3 is invalid in this locale”\n",
            "Warning message in FUN(X[[i]], ...):\n",
            "“input string 3 is invalid in this locale”\n",
            "Warning message in FUN(X[[i]], ...):\n",
            "“input string 3 is invalid in this locale”\n",
            "Warning message in FUN(X[[i]], ...):\n",
            "“input string 3 is invalid in this locale”\n",
            "Warning message in FUN(X[[i]], ...):\n",
            "“input string 3 is invalid in this locale”\n",
            "Warning message in FUN(X[[i]], ...):\n",
            "“input string 3 is invalid in this locale”\n",
            "Warning message in FUN(X[[i]], ...):\n",
            "“input string 3 is invalid in this locale”\n",
            "Warning message in FUN(X[[i]], ...):\n",
            "“input string 3 is invalid in this locale”\n",
            "Warning message in FUN(X[[i]], ...):\n",
            "“input string 3 is invalid in this locale”\n",
            "Warning message in FUN(X[[i]], ...):\n",
            "“input string 3 is invalid in this locale”\n",
            "Warning message in FUN(X[[i]], ...):\n",
            "“input string 3 is invalid in this locale”\n",
            "Warning message in FUN(X[[i]], ...):\n",
            "“input string 3 is invalid in this locale”\n",
            "Warning message in FUN(X[[i]], ...):\n",
            "“input string 3 is invalid in this locale”\n",
            "Warning message in FUN(X[[i]], ...):\n",
            "“input string 3 is invalid in this locale”\n"
          ],
          "name": "stderr"
        },
        {
          "output_type": "display_data",
          "data": {
            "text/plain": [
              "      SEXO_BIOLOGICO EDAD FACULTAD      \n",
              "836   MUJER          28   F.MEC\\xc1NICAS\n",
              "4803  HOMBRE         23   F.MEC\\xc1NICAS\n",
              "9587  MUJER          25   F.QU\\xcdMICAS \n",
              "14997 HOMBRE         23   F.QU\\xcdMICAS \n",
              "7362  MUJER          20   F.MEC\\xc1NICAS\n",
              "7731  HOMBRE         18   F.MEC\\xc1NICAS"
            ],
            "text/latex": "A data.frame: 6 × 3\n\\begin{tabular}{r|lll}\n  & SEXO\\_BIOLOGICO & EDAD & FACULTAD\\\\\n  & <fct> & <int> & <fct>\\\\\n\\hline\n\t836 & MUJER  & 28 & F.MEC<c1>NICAS\\\\\n\t4803 & HOMBRE & 23 & F.MEC<c1>NICAS\\\\\n\t9587 & MUJER  & 25 & F.QU<cd>MICAS \\\\\n\t14997 & HOMBRE & 23 & F.QU<cd>MICAS \\\\\n\t7362 & MUJER  & 20 & F.MEC<c1>NICAS\\\\\n\t7731 & HOMBRE & 18 & F.MEC<c1>NICAS\\\\\n\\end{tabular}\n",
            "text/html": [
              "<table>\n",
              "<caption>A data.frame: 6 × 3</caption>\n",
              "<thead>\n",
              "\t<tr><th></th><th scope=col>SEXO_BIOLOGICO</th><th scope=col>EDAD</th><th scope=col>FACULTAD</th></tr>\n",
              "\t<tr><th></th><th scope=col>&lt;fct&gt;</th><th scope=col>&lt;int&gt;</th><th scope=col>&lt;fct&gt;</th></tr>\n",
              "</thead>\n",
              "<tbody>\n",
              "\t<tr><th scope=row>836</th><td>MUJER </td><td>28</td><td>F.MEC<c1>NICAS</td></tr>\n",
              "\t<tr><th scope=row>4803</th><td>HOMBRE</td><td>23</td><td>F.MEC<c1>NICAS</td></tr>\n",
              "\t<tr><th scope=row>9587</th><td>MUJER </td><td>25</td><td>F.QU<cd>MICAS </td></tr>\n",
              "\t<tr><th scope=row>14997</th><td>HOMBRE</td><td>23</td><td>F.QU<cd>MICAS </td></tr>\n",
              "\t<tr><th scope=row>7362</th><td>MUJER </td><td>20</td><td>F.MEC<c1>NICAS</td></tr>\n",
              "\t<tr><th scope=row>7731</th><td>HOMBRE</td><td>18</td><td>F.MEC<c1>NICAS</td></tr>\n",
              "</tbody>\n",
              "</table>\n"
            ]
          },
          "metadata": {
            "tags": []
          }
        }
      ]
    },
    {
      "cell_type": "markdown",
      "metadata": {
        "id": "z2FB7ziPbi40",
        "colab_type": "text"
      },
      "source": [
        "Ya lo hicimos en el módulo de muestreo, pero, vamos a calcular por separado los parámetros:"
      ]
    },
    {
      "cell_type": "code",
      "metadata": {
        "id": "1rpvaSaKbi41",
        "colab_type": "code",
        "outputId": "05e49756-8ac7-4fa5-aa8d-2d4a03c3b812",
        "colab": {
          "base_uri": "https://localhost:8080/",
          "height": 34
        }
      },
      "source": [
        "# Media Poblacional\n",
        "round(mean(edades$EDAD),1)"
      ],
      "execution_count": 8,
      "outputs": [
        {
          "output_type": "display_data",
          "data": {
            "text/plain": [
              "[1] 23"
            ],
            "text/latex": "23",
            "text/markdown": "23",
            "text/html": [
              "23"
            ]
          },
          "metadata": {
            "tags": []
          }
        }
      ]
    },
    {
      "cell_type": "code",
      "metadata": {
        "id": "dqZNouIDbi43",
        "colab_type": "code",
        "outputId": "f4d07c91-c4f8-4eb8-ed9c-1a33866b4f18",
        "colab": {
          "base_uri": "https://localhost:8080/",
          "height": 34
        }
      },
      "source": [
        "# Media Muestral\n",
        "round(mean(mas.edades$EDAD),1)"
      ],
      "execution_count": 9,
      "outputs": [
        {
          "output_type": "display_data",
          "data": {
            "text/plain": [
              "[1] 22.8"
            ],
            "text/latex": "22.8",
            "text/markdown": "22.8",
            "text/html": [
              "22.8"
            ]
          },
          "metadata": {
            "tags": []
          }
        }
      ]
    },
    {
      "cell_type": "markdown",
      "metadata": {
        "id": "DJQHjqpRbi45",
        "colab_type": "text"
      },
      "source": [
        "Ahora, calculemos la varianza. Tengamos en cuenta que estos parámetros no son equivalentes:\n",
        "\n",
        "$$\n",
        "\\frac{\\sum_{i=1}^{N} \\left( X_{i} - \\mu \\right)^{2}}{N} \\not\\equiv \\frac{\\sum_{i=1}^{n} \\left( x_{i} - \\overline{x} \\right)^{2}}{n-1}\n",
        "$$\n",
        "\n",
        "Debemos tener en cuenta que las funciones de los paquetes estadísticos, por defecto, calculan la varianza muestral; por lo tanto, debemos hacer la respectiva corrección $\\left(N-1\\right) / N$"
      ]
    },
    {
      "cell_type": "code",
      "metadata": {
        "id": "l7XI-Xohbi46",
        "colab_type": "code",
        "outputId": "841fd52b-4871-4728-b068-73aaef4859bd",
        "colab": {
          "base_uri": "https://localhost:8080/",
          "height": 34
        }
      },
      "source": [
        "N<-length(edades$EDAD) # El tamaño de la población\n",
        "round(var(edades$EDAD),3) # Varianza sin corrección"
      ],
      "execution_count": 10,
      "outputs": [
        {
          "output_type": "display_data",
          "data": {
            "text/plain": [
              "[1] 32.795"
            ],
            "text/latex": "32.795",
            "text/markdown": "32.795",
            "text/html": [
              "32.795"
            ]
          },
          "metadata": {
            "tags": []
          }
        }
      ]
    },
    {
      "cell_type": "code",
      "metadata": {
        "id": "AgwwjTVMbi49",
        "colab_type": "code",
        "outputId": "c8ca88cb-745e-4f11-9f05-4cc645a5aeb8",
        "colab": {
          "base_uri": "https://localhost:8080/",
          "height": 34
        }
      },
      "source": [
        "round(var(edades$EDAD)*((N-1)/N),3) # Varianza Corregida"
      ],
      "execution_count": 11,
      "outputs": [
        {
          "output_type": "display_data",
          "data": {
            "text/plain": [
              "[1] 32.793"
            ],
            "text/latex": "32.793",
            "text/markdown": "32.793",
            "text/html": [
              "32.793"
            ]
          },
          "metadata": {
            "tags": []
          }
        }
      ]
    },
    {
      "cell_type": "markdown",
      "metadata": {
        "id": "WkKJJE36bi4_",
        "colab_type": "text"
      },
      "source": [
        "También podemos usar una función específica `popvar` de la librería `rafalib`:"
      ]
    },
    {
      "cell_type": "code",
      "metadata": {
        "id": "OLNU-JXUbi4_",
        "colab_type": "code",
        "colab": {
          "base_uri": "https://localhost:8080/",
          "height": 68
        },
        "outputId": "465f212c-3732-4d16-9fc2-dc3406e819fd"
      },
      "source": [
        "install.packages('rafalib')"
      ],
      "execution_count": 12,
      "outputs": [
        {
          "output_type": "stream",
          "text": [
            "Installing package into ‘/usr/local/lib/R/site-library’\n",
            "(as ‘lib’ is unspecified)\n",
            "\n"
          ],
          "name": "stderr"
        }
      ]
    },
    {
      "cell_type": "code",
      "metadata": {
        "id": "BgT3PmA6bi5B",
        "colab_type": "code",
        "outputId": "ee7317a1-1004-4a4e-e8f7-896ad86f1bd3",
        "colab": {
          "base_uri": "https://localhost:8080/",
          "height": 34
        }
      },
      "source": [
        "library(rafalib)\n",
        "round(popvar(edades$EDAD),3)"
      ],
      "execution_count": 13,
      "outputs": [
        {
          "output_type": "display_data",
          "data": {
            "text/plain": [
              "[1] 32.793"
            ],
            "text/latex": "32.793",
            "text/markdown": "32.793",
            "text/html": [
              "32.793"
            ]
          },
          "metadata": {
            "tags": []
          }
        }
      ]
    },
    {
      "cell_type": "code",
      "metadata": {
        "id": "GAWzjBCpDad6",
        "colab_type": "code",
        "outputId": "a21e6cea-c152-419d-e611-c40b4be0a5b9",
        "colab": {
          "base_uri": "https://localhost:8080/",
          "height": 34
        }
      },
      "source": [
        "round((sqrt(popvar(edades$EDAD))),2)"
      ],
      "execution_count": 14,
      "outputs": [
        {
          "output_type": "display_data",
          "data": {
            "text/plain": [
              "[1] 5.73"
            ],
            "text/latex": "5.73",
            "text/markdown": "5.73",
            "text/html": [
              "5.73"
            ]
          },
          "metadata": {
            "tags": []
          }
        }
      ]
    },
    {
      "cell_type": "code",
      "metadata": {
        "id": "WeVCY1zMMMeu",
        "colab_type": "code",
        "outputId": "8279e488-cefb-47f0-b7fb-567f98a7da9f",
        "colab": {
          "base_uri": "https://localhost:8080/",
          "height": 34
        }
      },
      "source": [
        "round(sd(edades$EDAD),2)"
      ],
      "execution_count": 15,
      "outputs": [
        {
          "output_type": "display_data",
          "data": {
            "text/plain": [
              "[1] 5.73"
            ],
            "text/latex": "5.73",
            "text/markdown": "5.73",
            "text/html": [
              "5.73"
            ]
          },
          "metadata": {
            "tags": []
          }
        }
      ]
    },
    {
      "cell_type": "code",
      "metadata": {
        "id": "pL05CFlvMZ5m",
        "colab_type": "code",
        "outputId": "fdcecbea-9eb1-45c7-b939-f1ad349434f7",
        "colab": {
          "base_uri": "https://localhost:8080/",
          "height": 34
        }
      },
      "source": [
        "N"
      ],
      "execution_count": 16,
      "outputs": [
        {
          "output_type": "display_data",
          "data": {
            "text/plain": [
              "[1] 24040"
            ],
            "text/latex": "24040",
            "text/markdown": "24040",
            "text/html": [
              "24040"
            ]
          },
          "metadata": {
            "tags": []
          }
        }
      ]
    },
    {
      "cell_type": "markdown",
      "metadata": {
        "id": "ugH78UNebi5D",
        "colab_type": "text"
      },
      "source": [
        "Para la varianza muestral no requerimos ajustes:"
      ]
    },
    {
      "cell_type": "code",
      "metadata": {
        "scrolled": true,
        "id": "TNCyc1pObi5E",
        "colab_type": "code",
        "outputId": "ee08f7b7-2b27-4073-c784-9e9a2bca6597",
        "colab": {
          "base_uri": "https://localhost:8080/",
          "height": 34
        }
      },
      "source": [
        "round(var(mas.edades$EDAD),3)"
      ],
      "execution_count": 17,
      "outputs": [
        {
          "output_type": "display_data",
          "data": {
            "text/plain": [
              "[1] 31.607"
            ],
            "text/latex": "31.607",
            "text/markdown": "31.607",
            "text/html": [
              "31.607"
            ]
          },
          "metadata": {
            "tags": []
          }
        }
      ]
    },
    {
      "cell_type": "markdown",
      "metadata": {
        "id": "gwXHT_okbi5G",
        "colab_type": "text"
      },
      "source": [
        "## Estimación por Máxima Verosimilitud\n",
        "\n",
        "Consideremos los siguiente: $x_{1}, x_{2}, \\dots, x_{n}$ corresponde a una m.a.s. de una población $X$ con una distribución de probabilidad $f(x|\\theta)$ siendo $\\theta$ un parámetro desconocido. Entonces, la función de verosimilitud se define como:\n",
        "\n",
        "\n",
        "$${\\Large\n",
        "L(\\theta) = f \\left(x_{1}, x_{2}, \\dots, x_{n}|\\theta\\right)\n",
        "}$$\n",
        "\n",
        "\n",
        "Como cada $x_{i}$ corresponde a una realización de la v.a. $X_{i}$ y son independientes e identicamente distribuidas (_idd_) la función de verosimilitud se escribe:\n",
        "\n",
        "$$\n",
        "{\\large\n",
        "L(\\theta) = \\prod_{i=1}^{n}f(x_{i}|\\theta)\n",
        "}\n",
        "$$"
      ]
    },
    {
      "cell_type": "markdown",
      "metadata": {
        "id": "u6qq1eBrbi5G",
        "colab_type": "text"
      },
      "source": [
        "La teoría nos indica que para encontrar el estimador máximo verosímil (_EMV_) para el parámetro poblacional desconocido $\\theta$, debemos resolver el siguiente problema de maximización:\n",
        "\n",
        "$$\n",
        "{\\large\n",
        "\\underset{\\widehat{\\theta}}{max} \\; L(\\theta) \\text{ o bien } \\underset{\\widehat{\\theta}}{max}\\; ln\\, L(\\theta)\n",
        "}\n",
        "$$\n",
        "\n",
        "Computacionalmente, el problema consiste en minimizar el negativo de la función de log-verisimilitud ya que $max\\;Z = min\\;(-Z)$ siendo $Z$ una función cualquiera. Entonces, se tiene:\n",
        "\n",
        "$$\n",
        "{\\large\n",
        "- ln\\, L(\\theta) = - ln \\prod_{i=1}^{n} f\\left( x_{i}|\\theta\\right) = - \\sum_{i=1}^{n} ln\\, f\\left( x_{i}|\\theta\\right)\n",
        "}\n",
        "$$"
      ]
    },
    {
      "cell_type": "markdown",
      "metadata": {
        "id": "LI69mX6Hbi5G",
        "colab_type": "text"
      },
      "source": [
        "## Ejemplo\n",
        "\n",
        "Sigamos con el ejemplo de las edades y estimemos por _MV_ los parámetros.\n",
        "\n",
        "Podemos usar dos funciones (no necesariamente ambas) `mle` y `mle2`. Cabe la posibildad que alguna librería no se encuentre actualizada\n",
        "\n",
        "Primero, necesitamos instalar algunos paquetes:"
      ]
    },
    {
      "cell_type": "code",
      "metadata": {
        "id": "Dc2a6TsMbi5H",
        "colab_type": "code",
        "colab": {
          "base_uri": "https://localhost:8080/",
          "height": 238
        },
        "outputId": "e4b76b15-3a5c-48f1-dbbd-9e1164a96518"
      },
      "source": [
        "install.packages(\"bbmle\")\n",
        "install.packages(\"stats4\")"
      ],
      "execution_count": 18,
      "outputs": [
        {
          "output_type": "stream",
          "text": [
            "Installing package into ‘/usr/local/lib/R/site-library’\n",
            "(as ‘lib’ is unspecified)\n",
            "\n",
            "also installing the dependencies ‘bdsmatrix’, ‘mvtnorm’\n",
            "\n",
            "\n",
            "Installing package into ‘/usr/local/lib/R/site-library’\n",
            "(as ‘lib’ is unspecified)\n",
            "\n",
            "Warning message:\n",
            "“package ‘stats4’ is not available (for R version 3.6.3)”\n",
            "Warning message:\n",
            "“package ‘stats4’ is a base package, and should not be updated”\n"
          ],
          "name": "stderr"
        }
      ]
    },
    {
      "cell_type": "code",
      "metadata": {
        "id": "0kyn9vxUbi5J",
        "colab_type": "code",
        "colab": {}
      },
      "source": [
        "library(stats4) # para la función mle\n",
        "library(bbmle) # para la función mle2"
      ],
      "execution_count": 0,
      "outputs": []
    },
    {
      "cell_type": "markdown",
      "metadata": {
        "id": "NfNkL6fmbi5K",
        "colab_type": "text"
      },
      "source": [
        "Ahora construimos el negativo de la función de log-verosimilitud. Esta función, llamada `NegLogLik` en este caso, depende de los parámetros poblacionales desconocidos media y desviación estándar, $\\mu$ y $\\sigma$ respectivamente:"
      ]
    },
    {
      "cell_type": "code",
      "metadata": {
        "id": "-dADboKKbi5L",
        "colab_type": "code",
        "colab": {}
      },
      "source": [
        "x<-edades$EDAD # Para trabajar con los datos muestrales que requerimos\n",
        "NegLogLik = function(mu,sigma){-sum(dnorm(x,mu,sigma,log = TRUE))}"
      ],
      "execution_count": 0,
      "outputs": []
    },
    {
      "cell_type": "markdown",
      "metadata": {
        "id": "tN5YcUVVbi5M",
        "colab_type": "text"
      },
      "source": [
        "Los parámetros muestrales para hacer las estimaciones"
      ]
    },
    {
      "cell_type": "code",
      "metadata": {
        "id": "n7ptiBv0bi5N",
        "colab_type": "code",
        "colab": {}
      },
      "source": [
        "m.mu<-mean(mas.edades$EDAD) # Media\n",
        "m.sigma<-sd(mas.edades$EDAD) # Desviación Estándar"
      ],
      "execution_count": 0,
      "outputs": []
    },
    {
      "cell_type": "markdown",
      "metadata": {
        "id": "dmNrgHEEbi5P",
        "colab_type": "text"
      },
      "source": [
        "Construimos los estimadores. El argumento `star=list()` es para ingresar los valores iniciales con los cuales R construirá numéricamente una aproximación de la Matriz Hessiana asociada al problema de optimización"
      ]
    },
    {
      "cell_type": "code",
      "metadata": {
        "id": "5uE7jGYEbi5P",
        "colab_type": "code",
        "outputId": "e97f28c5-044c-4c52-e598-d53050a6438e",
        "colab": {
          "base_uri": "https://localhost:8080/",
          "height": 272
        }
      },
      "source": [
        "EMV1 = mle(NegLogLik, start = list(mu=m.mu, sigma=m.sigma))\n",
        "summary(EMV1) # Para visualizar los valores"
      ],
      "execution_count": 22,
      "outputs": [
        {
          "output_type": "stream",
          "text": [
            "Warning message in dnorm(x, mu, sigma, log = TRUE):\n",
            "“NaNs produced”\n",
            "Warning message in dnorm(x, mu, sigma, log = TRUE):\n",
            "“NaNs produced”\n"
          ],
          "name": "stderr"
        },
        {
          "output_type": "display_data",
          "data": {
            "text/plain": [
              "Maximum likelihood estimation\n",
              "\n",
              "Call:\n",
              "mle(minuslogl = NegLogLik, start = list(mu = m.mu, sigma = m.sigma))\n",
              "\n",
              "Coefficients:\n",
              "       Estimate Std. Error\n",
              "mu    22.997165 0.03693393\n",
              "sigma  5.726546 0.02611627\n",
              "\n",
              "-2 log L: 152127.5 "
            ]
          },
          "metadata": {
            "tags": []
          }
        }
      ]
    },
    {
      "cell_type": "code",
      "metadata": {
        "scrolled": true,
        "id": "JgbF0ggLbi5R",
        "colab_type": "code",
        "outputId": "aef1f8ae-7744-4b50-e294-d0a97d91611b",
        "colab": {
          "base_uri": "https://localhost:8080/",
          "height": 255
        }
      },
      "source": [
        "EMV2 = mle2(NegLogLik,start = list(mu=m.mu,sigma=m.sigma), data = list(x)) # La otra función\n",
        "summary(EMV2)"
      ],
      "execution_count": 0,
      "outputs": [
        {
          "output_type": "display_data",
          "data": {
            "text/plain": [
              "Maximum likelihood estimation\n",
              "\n",
              "Call:\n",
              "mle2(minuslogl = NegLogLik, start = list(mu = m.mu, sigma = m.sigma), \n",
              "    data = list(x))\n",
              "\n",
              "Coefficients:\n",
              "       Estimate Std. Error z value     Pr(z)    \n",
              "mu    22.997173   0.036934  622.66 < 2.2e-16 ***\n",
              "sigma  5.726529   0.026116  219.27 < 2.2e-16 ***\n",
              "---\n",
              "Signif. codes:  0 ‘***’ 0.001 ‘**’ 0.01 ‘*’ 0.05 ‘.’ 0.1 ‘ ’ 1\n",
              "\n",
              "-2 log L: 152127.5 "
            ]
          },
          "metadata": {
            "tags": []
          }
        }
      ]
    },
    {
      "cell_type": "markdown",
      "metadata": {
        "id": "ZepymyYUbi5T",
        "colab_type": "text"
      },
      "source": [
        "## Intervalos de Confianza"
      ]
    },
    {
      "cell_type": "markdown",
      "metadata": {
        "id": "Qv_3w8B2bi5T",
        "colab_type": "text"
      },
      "source": [
        "El intervalo de confianza describe la variabilidad entre la medida obtenida en un estudio y la medida real de la población (el valor real). Corresponde a un rango de valores, cuya distribución es normal y en el cual se encuentra, con alta probabilidad, el valor real de una determinada variable.\n",
        "\n",
        "Se trata de un par de números (o varios pares de números) dentro de los cuales se estima se encuentra un parámetro desconocido $\\theta$.\n",
        "\n",
        "Cuando la varianza $\\sigma^{2}$ es conocida, el intervalo de confianza corresponde a:\n",
        "\n",
        "$$\n",
        "{\\large\n",
        "I.C \\rightarrow \\mu \\in \\overline{x} \\pm Z_{(1-\\alpha)} \\frac{S_{x}}{\\sqrt{n}}\n",
        "}\n",
        "$$\n",
        "\n",
        "Donde\n",
        "\n",
        "* $1-\\alpha$ es el nivel de confianza deseado\n",
        "* $Z_{1-\\alpha}$ es el valor de la distribución normal estándar que corresponde al nivel de confianza deseado.\n",
        "* $\\frac{S_{x}}{\\sqrt{n}}$ es el error estándar de la media"
      ]
    },
    {
      "cell_type": "markdown",
      "metadata": {
        "id": "pi6nnl8Zbi5U",
        "colab_type": "text"
      },
      "source": [
        "Los niveles de confianza más comunes son:\n",
        "\n",
        "* 0.90 o 90% $\\rightarrow Z = 1.64$\n",
        "* 0.95 o 95% $\\rightarrow Z = 1.96$\n",
        "* 0.99 o 99% $\\rightarrow Z = 2.57$"
      ]
    },
    {
      "cell_type": "code",
      "metadata": {
        "id": "zjPF-LYtE_mZ",
        "colab_type": "code",
        "colab": {
          "base_uri": "https://localhost:8080/",
          "height": 275
        },
        "outputId": "f542fdb6-db42-41a6-ef11-f650cc67e41d"
      },
      "source": [
        "install.packages('RcmdrMisc')"
      ],
      "execution_count": 23,
      "outputs": [
        {
          "output_type": "stream",
          "text": [
            "Installing package into ‘/usr/local/lib/R/site-library’\n",
            "(as ‘lib’ is unspecified)\n",
            "\n",
            "also installing the dependencies ‘zip’, ‘SparseM’, ‘MatrixModels’, ‘sp’, ‘openxlsx’, ‘nloptr’, ‘statmod’, ‘RcppEigen’, ‘png’, ‘jpeg’, ‘checkmate’, ‘carData’, ‘pbkrtest’, ‘quantreg’, ‘maptools’, ‘rio’, ‘lme4’, ‘zoo’, ‘Formula’, ‘latticeExtra’, ‘acepack’, ‘gridExtra’, ‘data.table’, ‘htmlTable’, ‘viridis’, ‘car’, ‘sandwich’, ‘abind’, ‘Hmisc’, ‘e1071’, ‘readstata13’, ‘nortest’\n",
            "\n",
            "\n",
            "Warning message in install.packages(\"RcmdrMisc\"):\n",
            "“installation of package ‘lme4’ had non-zero exit status”\n",
            "Warning message in install.packages(\"RcmdrMisc\"):\n",
            "“installation of package ‘pbkrtest’ had non-zero exit status”\n",
            "Warning message in install.packages(\"RcmdrMisc\"):\n",
            "“installation of package ‘car’ had non-zero exit status”\n",
            "Warning message in install.packages(\"RcmdrMisc\"):\n",
            "“installation of package ‘RcmdrMisc’ had non-zero exit status”\n"
          ],
          "name": "stderr"
        }
      ]
    },
    {
      "cell_type": "code",
      "metadata": {
        "id": "3K_cdqlCbi5V",
        "colab_type": "code",
        "colab": {}
      },
      "source": [
        "# La gráfica de la distribución normal estándar\n",
        "library(RcmdrMisc)"
      ],
      "execution_count": 0,
      "outputs": []
    },
    {
      "cell_type": "code",
      "metadata": {
        "id": "Ed73pv0Sbi5X",
        "colab_type": "code",
        "outputId": "83714f15-6e00-4dc2-e06e-95f4d3a18209",
        "colab": {
          "base_uri": "https://localhost:8080/",
          "height": 437
        }
      },
      "source": [
        "x <- seq(-3, 3, length.out=1000)  \n",
        "plotDistr(x, dnorm(x, mean=0, sd=1), cdf=FALSE, xlab=\"x\", ylab=\"Density\", main=paste(\"Distribución Normal Estándar\"), \n",
        "  regions=list(c(-1.96, 1.96)), col=c('#BEBEBE', '#BEBEBE'), legend.pos='topright')"
      ],
      "execution_count": 0,
      "outputs": [
        {
          "output_type": "display_data",
          "data": {
            "image/png": "[encoded data removed]",
            "text/plain": [
              "Plot with title “Distribución Normal Estándar”"
            ]
          },
          "metadata": {
            "tags": [],
            "image/png": {
              "width": 420,
              "height": 420
            },
            "text/plain": {
              "width": 420,
              "height": 420
            }
          }
        }
      ]
    },
    {
      "cell_type": "markdown",
      "metadata": {
        "id": "WX4exMF-bi5Z",
        "colab_type": "text"
      },
      "source": [
        "Sigamos con el ejemplo de las edades de los estudiantes:"
      ]
    },
    {
      "cell_type": "code",
      "metadata": {
        "id": "4fKiolFTbi5Z",
        "colab_type": "code",
        "outputId": "6f233e67-3afc-4637-83d2-a421fccfc89a",
        "colab": {
          "base_uri": "https://localhost:8080/",
          "height": 51
        }
      },
      "source": [
        "# Primero los descriptivos básicos:\n",
        "summary(mas.edades$EDAD)"
      ],
      "execution_count": 0,
      "outputs": [
        {
          "output_type": "display_data",
          "data": {
            "text/plain": [
              "   Min. 1st Qu.  Median    Mean 3rd Qu.    Max. \n",
              "  17.00   19.00   22.00   22.88   24.00   55.00 "
            ]
          },
          "metadata": {
            "tags": []
          }
        }
      ]
    },
    {
      "cell_type": "code",
      "metadata": {
        "id": "R6wjz9ucbi5b",
        "colab_type": "code",
        "outputId": "e56fe980-48c4-47be-c88d-8fd85a7d4da5",
        "colab": {
          "base_uri": "https://localhost:8080/",
          "height": 34
        }
      },
      "source": [
        "round(sd(mas.edades$EDAD),2)"
      ],
      "execution_count": 0,
      "outputs": [
        {
          "output_type": "display_data",
          "data": {
            "text/plain": [
              "[1] 5.34"
            ],
            "text/latex": "5.34",
            "text/markdown": "5.34",
            "text/html": [
              "5.34"
            ]
          },
          "metadata": {
            "tags": []
          }
        }
      ]
    },
    {
      "cell_type": "markdown",
      "metadata": {
        "id": "_Mbg3gdYbi5d",
        "colab_type": "text"
      },
      "source": [
        "Ahora, calculemos el intervalo:"
      ]
    },
    {
      "cell_type": "code",
      "metadata": {
        "id": "wnUFBL2sbi5d",
        "colab_type": "code",
        "colab": {}
      },
      "source": [
        "media <- mean(na.omit(mas.edades$EDAD)) # Pedimos la media\n",
        "desv <- sd(na.omit(mas.edades$EDAD)) # La desviación estándar\n",
        "N <- length(na.omit(mas.edades$EDAD)) # El tamaño válido de la muestra\n",
        "error.est <- desv/sqrt(N) # Calculamos el error estándar\n",
        "error <- 2*error.est # Fijamos Z=2 para indicar un nivel de confianza de 95%\n",
        "lim.inf <- media-error # Límite inferior del intervalo\n",
        "lim.sup <- media+error # Límite superior del intervalo"
      ],
      "execution_count": 0,
      "outputs": []
    },
    {
      "cell_type": "code",
      "metadata": {
        "scrolled": true,
        "id": "gSla1cz2bi5f",
        "colab_type": "code",
        "outputId": "e041cef2-4c56-4c02-f61c-60a841b76be7",
        "colab": {
          "base_uri": "https://localhost:8080/",
          "height": 99
        }
      },
      "source": [
        "# Guardamos todos los datos generados en un objeto data frame\n",
        "resultado1 <- data.frame(media, desv, N, error.est, error, lim.inf, lim.sup)\n",
        "round(resultado1,2)"
      ],
      "execution_count": 0,
      "outputs": [
        {
          "output_type": "display_data",
          "data": {
            "text/plain": [
              "  media desv N   error.est error lim.inf lim.sup\n",
              "1 22.88 5.34 379 0.27      0.55  22.33   23.43  "
            ],
            "text/latex": "A data.frame: 1 × 7\n\\begin{tabular}{lllllll}\n media & desv & N & error.est & error & lim.inf & lim.sup\\\\\n <dbl> & <dbl> & <dbl> & <dbl> & <dbl> & <dbl> & <dbl>\\\\\n\\hline\n\t 22.88 & 5.34 & 379 & 0.27 & 0.55 & 22.33 & 23.43\\\\\n\\end{tabular}\n",
            "text/markdown": "\nA data.frame: 1 × 7\n\n| media &lt;dbl&gt; | desv &lt;dbl&gt; | N &lt;dbl&gt; | error.est &lt;dbl&gt; | error &lt;dbl&gt; | lim.inf &lt;dbl&gt; | lim.sup &lt;dbl&gt; |\n|---|---|---|---|---|---|---|\n| 22.88 | 5.34 | 379 | 0.27 | 0.55 | 22.33 | 23.43 |\n\n",
            "text/html": [
              "<table>\n",
              "<caption>A data.frame: 1 × 7</caption>\n",
              "<thead>\n",
              "\t<tr><th scope=col>media</th><th scope=col>desv</th><th scope=col>N</th><th scope=col>error.est</th><th scope=col>error</th><th scope=col>lim.inf</th><th scope=col>lim.sup</th></tr>\n",
              "\t<tr><th scope=col>&lt;dbl&gt;</th><th scope=col>&lt;dbl&gt;</th><th scope=col>&lt;dbl&gt;</th><th scope=col>&lt;dbl&gt;</th><th scope=col>&lt;dbl&gt;</th><th scope=col>&lt;dbl&gt;</th><th scope=col>&lt;dbl&gt;</th></tr>\n",
              "</thead>\n",
              "<tbody>\n",
              "\t<tr><td>22.88</td><td>5.34</td><td>379</td><td>0.27</td><td>0.55</td><td>22.33</td><td>23.43</td></tr>\n",
              "</tbody>\n",
              "</table>\n"
            ]
          },
          "metadata": {
            "tags": []
          }
        }
      ]
    },
    {
      "cell_type": "markdown",
      "metadata": {
        "id": "UAc0f-ggbi5h",
        "colab_type": "text"
      },
      "source": [
        "Otra forma de estimar el intervalo de confianza es mediante la función `z.test` de la librería `TeachingDemos` que, a la vez, nos sirve para determinar si el valor de la media es el correcto:"
      ]
    },
    {
      "cell_type": "code",
      "metadata": {
        "id": "ZjmY5zGZLDXs",
        "colab_type": "code",
        "colab": {}
      },
      "source": [
        "install.packages('TeachingDemos')"
      ],
      "execution_count": 0,
      "outputs": []
    },
    {
      "cell_type": "code",
      "metadata": {
        "id": "L7L0ZRkmbi5h",
        "colab_type": "code",
        "colab": {}
      },
      "source": [
        "library(TeachingDemos) # Para usar la función z.test()"
      ],
      "execution_count": 0,
      "outputs": []
    },
    {
      "cell_type": "code",
      "metadata": {
        "id": "3bcIz04YUsT4",
        "colab_type": "code",
        "outputId": "10db30ba-1622-4b6a-fea5-d686717b94b1",
        "colab": {
          "base_uri": "https://localhost:8080/",
          "height": 85
        }
      },
      "source": [
        "args(z.test)"
      ],
      "execution_count": 0,
      "outputs": [
        {
          "output_type": "display_data",
          "data": {
            "text/plain": [
              "function (x, mu = 0, stdev, alternative = c(\"two.sided\", \"less\", \n",
              "    \"greater\"), sd = stdev, n = length(x), conf.level = 0.95, \n",
              "    ...) \n",
              "NULL"
            ],
            "text/latex": "\\begin{minted}{r}\nfunction (x, mu = 0, stdev, alternative = c(\"two.sided\", \"less\", \n    \"greater\"), sd = stdev, n = length(x), conf.level = 0.95, \n    ...) \nNULL\n\\end{minted}",
            "text/markdown": "```r\nfunction (x, mu = 0, stdev, alternative = c(\"two.sided\", \"less\", \n    \"greater\"), sd = stdev, n = length(x), conf.level = 0.95, \n    ...) \nNULL\n```",
            "text/html": [
              "<pre class=language-r><code>function (x, mu = 0, stdev, alternative = c(\"two.sided\", \"less\", \n",
              "<span style=white-space:pre-wrap>    \"greater\"), sd = stdev, n = length(x), conf.level = 0.95, </span>\n",
              "<span style=white-space:pre-wrap>    ...) </span>\n",
              "NULL</code></pre>"
            ]
          },
          "metadata": {
            "tags": []
          }
        }
      ]
    },
    {
      "cell_type": "code",
      "metadata": {
        "scrolled": true,
        "id": "WerBaxtWbi5j",
        "colab_type": "code",
        "outputId": "e7f8e643-ac07-4b75-b58b-ff36aca01fb7",
        "colab": {
          "base_uri": "https://localhost:8080/",
          "height": 221
        }
      },
      "source": [
        "z.test(mas.edades$EDAD, stdev = sd(mas.edades$EDAD), mu = mean(mas.edades$EDAD))"
      ],
      "execution_count": 0,
      "outputs": [
        {
          "output_type": "display_data",
          "data": {
            "text/plain": [
              "\n",
              "\tOne Sample z-test\n",
              "\n",
              "data:  mas.edades$EDAD\n",
              "z = 0, n = 379.00000, Std. Dev. = 5.34483, Std. Dev. of the sample mean\n",
              "= 0.27455, p-value = 1\n",
              "alternative hypothesis: true mean is not equal to 22.87863\n",
              "95 percent confidence interval:\n",
              " 22.34053 23.41673\n",
              "sample estimates:\n",
              "mean of mas.edades$EDAD \n",
              "               22.87863 \n"
            ]
          },
          "metadata": {
            "tags": []
          }
        }
      ]
    },
    {
      "cell_type": "code",
      "metadata": {
        "id": "EeCOS5h4VXfd",
        "colab_type": "code",
        "outputId": "a7fa6d7d-baff-4a72-8c2c-b03b5e9fb0f1",
        "colab": {
          "base_uri": "https://localhost:8080/",
          "height": 221
        }
      },
      "source": [
        "z.test(mas.edades$EDAD, stdev = sd(mas.edades$EDAD), mu = mean(mas.edades$EDAD), conf.level = 0.99)"
      ],
      "execution_count": 0,
      "outputs": [
        {
          "output_type": "display_data",
          "data": {
            "text/plain": [
              "\n",
              "\tOne Sample z-test\n",
              "\n",
              "data:  mas.edades$EDAD\n",
              "z = 0, n = 379.00000, Std. Dev. = 5.34483, Std. Dev. of the sample mean\n",
              "= 0.27455, p-value = 1\n",
              "alternative hypothesis: true mean is not equal to 22.87863\n",
              "99 percent confidence interval:\n",
              " 22.17145 23.58581\n",
              "sample estimates:\n",
              "mean of mas.edades$EDAD \n",
              "               22.87863 \n"
            ]
          },
          "metadata": {
            "tags": []
          }
        }
      ]
    },
    {
      "cell_type": "markdown",
      "metadata": {
        "id": "wZ_IpwPibi5l",
        "colab_type": "text"
      },
      "source": [
        "Un parámetro que, por lo general, se desconoce es la varianza. Cuando esto ocurre, no se emplea la distribucion _Z_ sino la distribución _t-student_:\n",
        "\n",
        "$$\n",
        "I.C \\rightarrow \\mu \\in \\overline{x} \\pm t \\frac{S_{x}}{\\sqrt{n}}\n",
        "$$"
      ]
    },
    {
      "cell_type": "code",
      "metadata": {
        "id": "ZN6BC9Zqbi5l",
        "colab_type": "code",
        "outputId": "c3b2ba25-355a-4f62-9c84-02b489ca084d",
        "colab": {
          "base_uri": "https://localhost:8080/",
          "height": 437
        }
      },
      "source": [
        "# La Gráfica de la distribución t-student:\n",
        "curve(dt(x, df = 30), from = -3, to = 3, lwd = 3, ylab = \"y\", main = \"Distribución t-student\")\n",
        "ind <- c(1, 2, 3, 5, 10)\n",
        "for (i in ind) curve(dt(x, df = i), -3, 3, add = TRUE,col=i)"
      ],
      "execution_count": 0,
      "outputs": [
        {
          "output_type": "display_data",
          "data": {
            "image/png": "[encoded data removed]",
            "text/plain": [
              "Plot with title “Distribución t-student”"
            ]
          },
          "metadata": {
            "tags": [],
            "image/png": {
              "width": 420,
              "height": 420
            },
            "text/plain": {
              "width": 420,
              "height": 420
            }
          }
        }
      ]
    },
    {
      "cell_type": "code",
      "metadata": {
        "id": "kiZj-B7Fbi5n",
        "colab_type": "code",
        "colab": {}
      },
      "source": [
        "media <- mean(na.omit(mas.edades$EDAD))\n",
        "desv <- sd(na.omit(mas.edades$EDAD))\n",
        "N <- length(na.omit(mas.edades$EDAD))\n",
        "error.est <- desv/sqrt(N)\n",
        "error <- qt(0.975, df= N-1) * error.est # Usar el cuantil 0.975 de t\n",
        "lim.inf <- media-error\n",
        "lim.sup <- media+error"
      ],
      "execution_count": 0,
      "outputs": []
    },
    {
      "cell_type": "code",
      "metadata": {
        "id": "AF-j-WX1bi5p",
        "colab_type": "code",
        "outputId": "4c5719ff-00bf-41b6-b64e-835e8cb9a210",
        "colab": {
          "base_uri": "https://localhost:8080/",
          "height": 99
        }
      },
      "source": [
        "resultado2 <- data.frame(media, desv, N, error.est, error, lim.inf, lim.sup)\n",
        "resultado2"
      ],
      "execution_count": 0,
      "outputs": [
        {
          "output_type": "display_data",
          "data": {
            "text/plain": [
              "  media    desv     N   error.est error    lim.inf lim.sup \n",
              "1 22.87863 5.344833 379 0.2745456 0.539828 22.3388 23.41846"
            ],
            "text/latex": "A data.frame: 1 × 7\n\\begin{tabular}{lllllll}\n media & desv & N & error.est & error & lim.inf & lim.sup\\\\\n <dbl> & <dbl> & <int> & <dbl> & <dbl> & <dbl> & <dbl>\\\\\n\\hline\n\t 22.87863 & 5.344833 & 379 & 0.2745456 & 0.539828 & 22.3388 & 23.41846\\\\\n\\end{tabular}\n",
            "text/markdown": "\nA data.frame: 1 × 7\n\n| media &lt;dbl&gt; | desv &lt;dbl&gt; | N &lt;int&gt; | error.est &lt;dbl&gt; | error &lt;dbl&gt; | lim.inf &lt;dbl&gt; | lim.sup &lt;dbl&gt; |\n|---|---|---|---|---|---|---|\n| 22.87863 | 5.344833 | 379 | 0.2745456 | 0.539828 | 22.3388 | 23.41846 |\n\n",
            "text/html": [
              "<table>\n",
              "<caption>A data.frame: 1 × 7</caption>\n",
              "<thead>\n",
              "\t<tr><th scope=col>media</th><th scope=col>desv</th><th scope=col>N</th><th scope=col>error.est</th><th scope=col>error</th><th scope=col>lim.inf</th><th scope=col>lim.sup</th></tr>\n",
              "\t<tr><th scope=col>&lt;dbl&gt;</th><th scope=col>&lt;dbl&gt;</th><th scope=col>&lt;int&gt;</th><th scope=col>&lt;dbl&gt;</th><th scope=col>&lt;dbl&gt;</th><th scope=col>&lt;dbl&gt;</th><th scope=col>&lt;dbl&gt;</th></tr>\n",
              "</thead>\n",
              "<tbody>\n",
              "\t<tr><td>22.87863</td><td>5.344833</td><td>379</td><td>0.2745456</td><td>0.539828</td><td>22.3388</td><td>23.41846</td></tr>\n",
              "</tbody>\n",
              "</table>\n"
            ]
          },
          "metadata": {
            "tags": []
          }
        }
      ]
    },
    {
      "cell_type": "markdown",
      "metadata": {
        "id": "-NDdYG7hbi5q",
        "colab_type": "text"
      },
      "source": [
        "O usando la función `t.test`:"
      ]
    },
    {
      "cell_type": "code",
      "metadata": {
        "id": "__ti149abi5r",
        "colab_type": "code",
        "outputId": "8ec8528d-5f7c-4287-a2a6-ab5f20d55c8c",
        "colab": {
          "base_uri": "https://localhost:8080/",
          "height": 204
        }
      },
      "source": [
        "t.test(mas.edades$EDAD, mu = mean(edades$EDAD))"
      ],
      "execution_count": 0,
      "outputs": [
        {
          "output_type": "display_data",
          "data": {
            "text/plain": [
              "\n",
              "\tOne Sample t-test\n",
              "\n",
              "data:  mas.edades$EDAD\n",
              "t = -0.43178, df = 378, p-value = 0.6661\n",
              "alternative hypothesis: true mean is not equal to 22.99717\n",
              "95 percent confidence interval:\n",
              " 22.33880 23.41846\n",
              "sample estimates:\n",
              "mean of x \n",
              " 22.87863 \n"
            ]
          },
          "metadata": {
            "tags": []
          }
        }
      ]
    },
    {
      "cell_type": "markdown",
      "metadata": {
        "id": "s3c1KqTObi5t",
        "colab_type": "text"
      },
      "source": [
        "Cuando se trata de proporciones, el intervalo de confianza se estima mediante:\n",
        "\n",
        "$$\n",
        "I.C. \\rightarrow \\pi \\in p \\pm Z \\sqrt{\\frac{p (1 - p)}{n}}\n",
        "$$"
      ]
    },
    {
      "cell_type": "code",
      "metadata": {
        "id": "NwaMpKrT90g2",
        "colab_type": "code",
        "colab": {
          "base_uri": "https://localhost:8080/",
          "height": 119
        },
        "outputId": "7d40a8e0-05a3-4d3b-cdf1-79f6bd5c48ef"
      },
      "source": [
        "install.packages('descr')"
      ],
      "execution_count": 24,
      "outputs": [
        {
          "output_type": "stream",
          "text": [
            "Installing package into ‘/usr/local/lib/R/site-library’\n",
            "(as ‘lib’ is unspecified)\n",
            "\n",
            "also installing the dependency ‘xtable’\n",
            "\n",
            "\n"
          ],
          "name": "stderr"
        }
      ]
    },
    {
      "cell_type": "code",
      "metadata": {
        "id": "msVCzuq-bi5t",
        "colab_type": "code",
        "colab": {
          "base_uri": "https://localhost:8080/",
          "height": 540
        },
        "outputId": "b2256043-ccfa-4cea-cccc-60f6ebe66f21"
      },
      "source": [
        "library(descr)\n",
        "freq(mas.edades$SEXO_BIOLOGICO, plot = T)"
      ],
      "execution_count": 25,
      "outputs": [
        {
          "output_type": "display_data",
          "data": {
            "text/plain": [
              "       Frequency Percent  \n",
              "HOMBRE 208        54.88127\n",
              "MUJER  171        45.11873\n",
              "Total  379       100.00000"
            ],
            "text/latex": "A freqtable: 3 × 2 of type dbl\n\\begin{tabular}{r|ll}\n  & Frequency & Percent\\\\\n\\hline\n\tHOMBRE & 208 &  54.88127\\\\\n\tMUJER & 171 &  45.11873\\\\\n\tTotal & 379 & 100.00000\\\\\n\\end{tabular}\n",
            "text/markdown": "\nA freqtable: 3 × 2 of type dbl\n\n| <!--/--> | Frequency | Percent |\n|---|---|---|\n| HOMBRE | 208 |  54.88127 |\n| MUJER | 171 |  45.11873 |\n| Total | 379 | 100.00000 |\n\n",
            "text/html": [
              "<table>\n",
              "<caption>A freqtable: 3 × 2 of type dbl</caption>\n",
              "<thead>\n",
              "\t<tr><th></th><th scope=col>Frequency</th><th scope=col>Percent</th></tr>\n",
              "</thead>\n",
              "<tbody>\n",
              "\t<tr><th scope=row>HOMBRE</th><td>208</td><td> 54.88127</td></tr>\n",
              "\t<tr><th scope=row>MUJER</th><td>171</td><td> 45.11873</td></tr>\n",
              "\t<tr><th scope=row>Total</th><td>379</td><td>100.00000</td></tr>\n",
              "</tbody>\n",
              "</table>\n"
            ]
          },
          "metadata": {
            "tags": []
          }
        },
        {
          "output_type": "display_data",
          "data": {
            "image/png": "[encoded data removed]",
            "text/plain": [
              "plot without title"
            ]
          },
          "metadata": {
            "tags": [],
            "image/png": {
              "width": 420,
              "height": 420
            },
            "text/plain": {
              "width": 420,
              "height": 420
            }
          }
        }
      ]
    },
    {
      "cell_type": "markdown",
      "metadata": {
        "id": "zqDwF6BSbi5v",
        "colab_type": "text"
      },
      "source": [
        "Preparamos los datos para el cálculo del intervalo de confianza, en este caso vamos a seleccionar una categoría: `HOMBRE` en la distribución de `SEXO_BIOLOGICO`:"
      ]
    },
    {
      "cell_type": "code",
      "metadata": {
        "scrolled": true,
        "id": "GPzVWh8pbi5v",
        "colab_type": "code",
        "colab": {
          "base_uri": "https://localhost:8080/",
          "height": 68
        },
        "outputId": "a5a3128d-63e7-4fc5-dae1-3d355cd9aa69"
      },
      "source": [
        "cat <- ifelse(mas.edades$SEXO_BIOLOGICO==\"HOMBRE\", 0, 1)\n",
        "prop.table(table(cat))"
      ],
      "execution_count": 31,
      "outputs": [
        {
          "output_type": "display_data",
          "data": {
            "text/plain": [
              "cat\n",
              "        0         1 \n",
              "0.5488127 0.4511873 "
            ]
          },
          "metadata": {
            "tags": []
          }
        }
      ]
    },
    {
      "cell_type": "code",
      "metadata": {
        "id": "7Z8fyg5Mbi5x",
        "colab_type": "code",
        "colab": {
          "base_uri": "https://localhost:8080/",
          "height": 34
        },
        "outputId": "5ec0f287-423f-43b6-f131-a03b167261ed"
      },
      "source": [
        "p <- mean(cat)\n",
        "p # Esta es la proporción de estudiantes hombres"
      ],
      "execution_count": 32,
      "outputs": [
        {
          "output_type": "display_data",
          "data": {
            "text/plain": [
              "[1] 0.4511873"
            ],
            "text/latex": "0.451187335092348",
            "text/markdown": "0.451187335092348",
            "text/html": [
              "0.451187335092348"
            ]
          },
          "metadata": {
            "tags": []
          }
        }
      ]
    },
    {
      "cell_type": "code",
      "metadata": {
        "id": "hoLMrdNDbi5z",
        "colab_type": "code",
        "colab": {}
      },
      "source": [
        "n <- length(cat) # Tamaño de la muestra \n",
        "error.est.p <- sqrt((p*(1-p))/n) # Error estándar de la propoción\n",
        "error.p <- 2 * error.est.p # Usamos Z = 2 para indicar un nivel de confianza del 95%\n",
        "lim.inf.p <- p - error.p \n",
        "lim.sup.p <- p + error.p"
      ],
      "execution_count": 0,
      "outputs": []
    },
    {
      "cell_type": "code",
      "metadata": {
        "scrolled": true,
        "id": "tMANSs0abi50",
        "colab_type": "code",
        "colab": {
          "base_uri": "https://localhost:8080/",
          "height": 99
        },
        "outputId": "9ae0eb5a-41e9-4585-ee2c-0d6fd69f14a0"
      },
      "source": [
        "result.p <- data.frame(p, n, error.est.p, error.p, lim.inf.p, lim.sup.p)\n",
        "round(result.p,2)"
      ],
      "execution_count": 34,
      "outputs": [
        {
          "output_type": "display_data",
          "data": {
            "text/plain": [
              "  p    n   error.est.p error.p lim.inf.p lim.sup.p\n",
              "1 0.45 379 0.03        0.05    0.4       0.5      "
            ],
            "text/latex": "A data.frame: 1 × 6\n\\begin{tabular}{llllll}\n p & n & error.est.p & error.p & lim.inf.p & lim.sup.p\\\\\n <dbl> & <dbl> & <dbl> & <dbl> & <dbl> & <dbl>\\\\\n\\hline\n\t 0.45 & 379 & 0.03 & 0.05 & 0.4 & 0.5\\\\\n\\end{tabular}\n",
            "text/markdown": "\nA data.frame: 1 × 6\n\n| p &lt;dbl&gt; | n &lt;dbl&gt; | error.est.p &lt;dbl&gt; | error.p &lt;dbl&gt; | lim.inf.p &lt;dbl&gt; | lim.sup.p &lt;dbl&gt; |\n|---|---|---|---|---|---|\n| 0.45 | 379 | 0.03 | 0.05 | 0.4 | 0.5 |\n\n",
            "text/html": [
              "<table>\n",
              "<caption>A data.frame: 1 × 6</caption>\n",
              "<thead>\n",
              "\t<tr><th scope=col>p</th><th scope=col>n</th><th scope=col>error.est.p</th><th scope=col>error.p</th><th scope=col>lim.inf.p</th><th scope=col>lim.sup.p</th></tr>\n",
              "\t<tr><th scope=col>&lt;dbl&gt;</th><th scope=col>&lt;dbl&gt;</th><th scope=col>&lt;dbl&gt;</th><th scope=col>&lt;dbl&gt;</th><th scope=col>&lt;dbl&gt;</th><th scope=col>&lt;dbl&gt;</th></tr>\n",
              "</thead>\n",
              "<tbody>\n",
              "\t<tr><td>0.45</td><td>379</td><td>0.03</td><td>0.05</td><td>0.4</td><td>0.5</td></tr>\n",
              "</tbody>\n",
              "</table>\n"
            ]
          },
          "metadata": {
            "tags": []
          }
        }
      ]
    },
    {
      "cell_type": "markdown",
      "metadata": {
        "id": "yAn9NXQsbi52",
        "colab_type": "text"
      },
      "source": [
        "O usando la función `binconf` de la librería `Hmisc`:"
      ]
    },
    {
      "cell_type": "code",
      "metadata": {
        "scrolled": false,
        "id": "8hg4GHwabi52",
        "colab_type": "code",
        "colab": {
          "base_uri": "https://localhost:8080/",
          "height": 418
        },
        "outputId": "cf662d3e-75f5-44c9-fa25-5668c13e29e8"
      },
      "source": [
        "library(Hmisc)\n",
        "binconf(x = 171, n = 379)"
      ],
      "execution_count": 35,
      "outputs": [
        {
          "output_type": "stream",
          "text": [
            "Loading required package: lattice\n",
            "\n",
            "Loading required package: Formula\n",
            "\n",
            "Loading required package: ggplot2\n",
            "\n",
            "\n",
            "Attaching package: ‘Hmisc’\n",
            "\n",
            "\n",
            "The following object is masked from ‘package:survey’:\n",
            "\n",
            "    deff\n",
            "\n",
            "\n",
            "The following objects are masked from ‘package:base’:\n",
            "\n",
            "    format.pval, units\n",
            "\n",
            "\n"
          ],
          "name": "stderr"
        },
        {
          "output_type": "display_data",
          "data": {
            "text/plain": [
              " PointEst  Lower     Upper    \n",
              " 0.4511873 0.4018289 0.5015254"
            ],
            "text/latex": "A matrix: 1 × 3 of type dbl\n\\begin{tabular}{r|lll}\n  & PointEst & Lower & Upper\\\\\n\\hline\n\t & 0.4511873 & 0.4018289 & 0.5015254\\\\\n\\end{tabular}\n",
            "text/markdown": "\nA matrix: 1 × 3 of type dbl\n\n| <!--/--> | PointEst | Lower | Upper |\n|---|---|---|---|\n| <!----> | 0.4511873 | 0.4018289 | 0.5015254 |\n\n",
            "text/html": [
              "<table>\n",
              "<caption>A matrix: 1 × 3 of type dbl</caption>\n",
              "<thead>\n",
              "\t<tr><th></th><th scope=col>PointEst</th><th scope=col>Lower</th><th scope=col>Upper</th></tr>\n",
              "</thead>\n",
              "<tbody>\n",
              "\t<tr><th scope=row></th><td>0.4511873</td><td>0.4018289</td><td>0.5015254</td></tr>\n",
              "</tbody>\n",
              "</table>\n"
            ]
          },
          "metadata": {
            "tags": []
          }
        }
      ]
    },
    {
      "cell_type": "markdown",
      "metadata": {
        "id": "DYFrz0Dabi54",
        "colab_type": "text"
      },
      "source": [
        "Gráficamente, ¿cómo lo podemos representar? Una opción es las gráficas de error"
      ]
    },
    {
      "cell_type": "code",
      "metadata": {
        "id": "_qP1IWL8-GVN",
        "colab_type": "code",
        "colab": {
          "base_uri": "https://localhost:8080/",
          "height": 68
        },
        "outputId": "3cfbf37f-ede5-4b7a-db37-03bf68edabde"
      },
      "source": [
        "install.packages('plotrix')"
      ],
      "execution_count": 36,
      "outputs": [
        {
          "output_type": "stream",
          "text": [
            "Installing package into ‘/usr/local/lib/R/site-library’\n",
            "(as ‘lib’ is unspecified)\n",
            "\n"
          ],
          "name": "stderr"
        }
      ]
    },
    {
      "cell_type": "code",
      "metadata": {
        "id": "u9zjGZHjbi55",
        "colab_type": "code",
        "colab": {
          "base_uri": "https://localhost:8080/",
          "height": 437
        },
        "outputId": "be7f7927-4366-497e-a592-be34563d5888"
      },
      "source": [
        "library(plotrix)\n",
        "plotCI(mean(mas.edades$EDAD), ui = lim.sup, li = lim.inf, xlab = 'Edades', ylab = 'Intervalo de Confianza', pch = 19)"
      ],
      "execution_count": 39,
      "outputs": [
        {
          "output_type": "display_data",
          "data": {
            "image/png": "[encoded data removed]",
            "text/plain": [
              "plot without title"
            ]
          },
          "metadata": {
            "tags": [],
            "image/png": {
              "width": 420,
              "height": 420
            },
            "text/plain": {
              "width": 420,
              "height": 420
            }
          }
        }
      ]
    },
    {
      "cell_type": "code",
      "metadata": {
        "id": "NdETVgcPc4t_",
        "colab_type": "code",
        "colab": {
          "base_uri": "https://localhost:8080/",
          "height": 437
        },
        "outputId": "b7e72828-355f-4c55-ec43-a8ffd951d8af"
      },
      "source": [
        "plotCI(mean(cat), ui = lim.sup.p, li = lim.inf.p, xlab = 'Mujeres', ylab = 'Intervalo de Confianza', pch = 19)"
      ],
      "execution_count": 41,
      "outputs": [
        {
          "output_type": "display_data",
          "data": {
            "image/png": "[encoded data removed]",
            "text/plain": [
              "plot without title"
            ]
          },
          "metadata": {
            "tags": [],
            "image/png": {
              "width": 420,
              "height": 420
            },
            "text/plain": {
              "width": 420,
              "height": 420
            }
          }
        }
      ]
    }
  ]
}