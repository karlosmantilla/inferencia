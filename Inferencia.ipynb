{
 "cells": [
  {
   "cell_type": "markdown",
   "metadata": {
    "slideshow": {
     "slide_type": "slide"
    }
   },
   "source": [
    "# INFERENCIA ESTADÍSTICA\n",
    "\n",
    "Por lo general, contamos con recursos limitados (ya sea tiempo o dinero). Estas limitaciones no permiten que un censo se realice con frecuencia; por lo tanto, requerimos de trabajar con una muestra y calcular los parámetros poblacionales a partir de una muestra."
   ]
  },
  {
   "cell_type": "markdown",
   "metadata": {
    "slideshow": {
     "slide_type": "subslide"
    }
   },
   "source": [
    "## Estimación de Parámetros. Estimadores\n",
    "\n",
    "Los parámetros a estimar, básicamente, son dos: media y varianza.\n",
    "\n",
    "Si la muestra es representativa, la media y la varianza poblacionales corresponderán a la media y varianza muestrales. Por lo que los valores encontrados corresponderán a una probabilidad.\n",
    "\n",
    "La función de la media poblacional es:\n",
    "\n",
    "$$\n",
    "\\mu = \\frac{\\sum_{i=1}^{N} X_{i}}{N}\n",
    "$$\n",
    "\n",
    "y la muestral es:\n",
    "\n",
    "$$\n",
    "\\overline{x} = \\frac{\\sum_{i=1}^{n} x_{i}}{n}\n",
    "$$\n",
    "\n",
    "Básicamente, se calculan de la misma manera."
   ]
  },
  {
   "cell_type": "markdown",
   "metadata": {
    "slideshow": {
     "slide_type": "subslide"
    }
   },
   "source": [
    "Cuando se calcula la varianza, sí se observa una diferencia sustancial:\n",
    "\n",
    "Varianza Poblacional:\n",
    "\n",
    "$$\n",
    "\\sigma^{2} = \\frac{\\sum_{i=1}^{N} \\left( X_{i} - \\mu \\right)^{2}}{N}\n",
    "$$\n",
    "\n",
    "Varianza Muestral\n",
    "\n",
    "$$\n",
    "S^{2} = \\frac{\\sum_{i=1}^{n} \\left( x_{i} - \\overline{x} \\right)^{2}}{n-1}\n",
    "$$"
   ]
  },
  {
   "cell_type": "markdown",
   "metadata": {
    "slideshow": {
     "slide_type": "slide"
    }
   },
   "source": [
    "### Ejemplo\n",
    "\n",
    "Vamos a continuar con el ejemplo de las edades de los estudiantes. Como ya conocemos la población, vamos a usarlo como referencia para comprobar la precisión:"
   ]
  },
  {
   "cell_type": "code",
   "execution_count": 1,
   "metadata": {
    "slideshow": {
     "slide_type": "subslide"
    }
   },
   "outputs": [
    {
     "data": {
      "text/html": [
       "<table>\n",
       "<caption>A data.frame: 6 × 3</caption>\n",
       "<thead>\n",
       "\t<tr><th scope=col>SEXO_BIOLOGICO</th><th scope=col>EDAD</th><th scope=col>FACULTAD</th></tr>\n",
       "\t<tr><th scope=col>&lt;fct&gt;</th><th scope=col>&lt;int&gt;</th><th scope=col>&lt;fct&gt;</th></tr>\n",
       "</thead>\n",
       "<tbody>\n",
       "\t<tr><td>HOMBRE</td><td>30</td><td>CIENCIAS</td></tr>\n",
       "\t<tr><td>HOMBRE</td><td>26</td><td>CIENCIAS</td></tr>\n",
       "\t<tr><td>HOMBRE</td><td>30</td><td>CIENCIAS</td></tr>\n",
       "\t<tr><td>HOMBRE</td><td>28</td><td>CIENCIAS</td></tr>\n",
       "\t<tr><td>MUJER </td><td>28</td><td>CIENCIAS</td></tr>\n",
       "\t<tr><td>MUJER </td><td>28</td><td>CIENCIAS</td></tr>\n",
       "</tbody>\n",
       "</table>\n"
      ],
      "text/latex": [
       "A data.frame: 6 × 3\n",
       "\\begin{tabular}{r|lll}\n",
       " SEXO\\_BIOLOGICO & EDAD & FACULTAD\\\\\n",
       " <fct> & <int> & <fct>\\\\\n",
       "\\hline\n",
       "\t HOMBRE & 30 & CIENCIAS\\\\\n",
       "\t HOMBRE & 26 & CIENCIAS\\\\\n",
       "\t HOMBRE & 30 & CIENCIAS\\\\\n",
       "\t HOMBRE & 28 & CIENCIAS\\\\\n",
       "\t MUJER  & 28 & CIENCIAS\\\\\n",
       "\t MUJER  & 28 & CIENCIAS\\\\\n",
       "\\end{tabular}\n"
      ],
      "text/markdown": [
       "\n",
       "A data.frame: 6 × 3\n",
       "\n",
       "| SEXO_BIOLOGICO &lt;fct&gt; | EDAD &lt;int&gt; | FACULTAD &lt;fct&gt; |\n",
       "|---|---|---|\n",
       "| HOMBRE | 30 | CIENCIAS |\n",
       "| HOMBRE | 26 | CIENCIAS |\n",
       "| HOMBRE | 30 | CIENCIAS |\n",
       "| HOMBRE | 28 | CIENCIAS |\n",
       "| MUJER  | 28 | CIENCIAS |\n",
       "| MUJER  | 28 | CIENCIAS |\n",
       "\n"
      ],
      "text/plain": [
       "  SEXO_BIOLOGICO EDAD FACULTAD\n",
       "1 HOMBRE         30   CIENCIAS\n",
       "2 HOMBRE         26   CIENCIAS\n",
       "3 HOMBRE         30   CIENCIAS\n",
       "4 HOMBRE         28   CIENCIAS\n",
       "5 MUJER          28   CIENCIAS\n",
       "6 MUJER          28   CIENCIAS"
      ]
     },
     "metadata": {},
     "output_type": "display_data"
    }
   ],
   "source": [
    "load('Datos/estudiantes.RData')\n",
    "edades<-poblacion[,c(2,5,15)]\n",
    "head(edades)"
   ]
  },
  {
   "cell_type": "code",
   "execution_count": 2,
   "metadata": {
    "slideshow": {
     "slide_type": "subslide"
    }
   },
   "outputs": [
    {
     "name": "stderr",
     "output_type": "stream",
     "text": [
      "Loading required package: pps\n",
      "Loading required package: sampling\n",
      "Loading required package: survey\n",
      "Loading required package: grid\n",
      "Loading required package: Matrix\n",
      "Loading required package: survival\n",
      "\n",
      "Attaching package: 'survival'\n",
      "\n",
      "The following objects are masked from 'package:sampling':\n",
      "\n",
      "    cluster, strata\n",
      "\n",
      "\n",
      "Attaching package: 'survey'\n",
      "\n",
      "The following object is masked from 'package:graphics':\n",
      "\n",
      "    dotchart\n",
      "\n"
     ]
    }
   ],
   "source": [
    "library(samplingbook) # Para calcular el tamaño de la muestra"
   ]
  },
  {
   "cell_type": "code",
   "execution_count": 3,
   "metadata": {
    "slideshow": {
     "slide_type": "subslide"
    }
   },
   "outputs": [
    {
     "data": {
      "text/html": [
       "<table>\n",
       "<caption>A data.frame: 6 × 3</caption>\n",
       "<thead>\n",
       "\t<tr><th></th><th scope=col>SEXO_BIOLOGICO</th><th scope=col>EDAD</th><th scope=col>FACULTAD</th></tr>\n",
       "\t<tr><th></th><th scope=col>&lt;fct&gt;</th><th scope=col>&lt;int&gt;</th><th scope=col>&lt;fct&gt;</th></tr>\n",
       "</thead>\n",
       "<tbody>\n",
       "\t<tr><th scope=row>18126</th><td>MUJER </td><td>18</td><td>C. HUMANAS </td></tr>\n",
       "\t<tr><th scope=row>12832</th><td>HOMBRE</td><td>22</td><td>F.QUÍMICAS </td></tr>\n",
       "\t<tr><th scope=row>16073</th><td>HOMBRE</td><td>19</td><td>F.MECÁNICAS</td></tr>\n",
       "\t<tr><th scope=row>9568</th><td>HOMBRE</td><td>19</td><td>F.QUÍMICAS </td></tr>\n",
       "\t<tr><th scope=row>17801</th><td>MUJER </td><td>18</td><td>C. HUMANAS </td></tr>\n",
       "\t<tr><th scope=row>20659</th><td>HOMBRE</td><td>20</td><td>F.QUÍMICAS </td></tr>\n",
       "</tbody>\n",
       "</table>\n"
      ],
      "text/latex": [
       "A data.frame: 6 × 3\n",
       "\\begin{tabular}{r|lll}\n",
       "  & SEXO\\_BIOLOGICO & EDAD & FACULTAD\\\\\n",
       "  & <fct> & <int> & <fct>\\\\\n",
       "\\hline\n",
       "\t18126 & MUJER  & 18 & C. HUMANAS \\\\\n",
       "\t12832 & HOMBRE & 22 & F.QUÍMICAS \\\\\n",
       "\t16073 & HOMBRE & 19 & F.MECÁNICAS\\\\\n",
       "\t9568 & HOMBRE & 19 & F.QUÍMICAS \\\\\n",
       "\t17801 & MUJER  & 18 & C. HUMANAS \\\\\n",
       "\t20659 & HOMBRE & 20 & F.QUÍMICAS \\\\\n",
       "\\end{tabular}\n"
      ],
      "text/markdown": [
       "\n",
       "A data.frame: 6 × 3\n",
       "\n",
       "| <!--/--> | SEXO_BIOLOGICO &lt;fct&gt; | EDAD &lt;int&gt; | FACULTAD &lt;fct&gt; |\n",
       "|---|---|---|---|\n",
       "| 18126 | MUJER  | 18 | C. HUMANAS  |\n",
       "| 12832 | HOMBRE | 22 | F.QUÍMICAS  |\n",
       "| 16073 | HOMBRE | 19 | F.MECÁNICAS |\n",
       "| 9568 | HOMBRE | 19 | F.QUÍMICAS  |\n",
       "| 17801 | MUJER  | 18 | C. HUMANAS  |\n",
       "| 20659 | HOMBRE | 20 | F.QUÍMICAS  |\n",
       "\n"
      ],
      "text/plain": [
       "      SEXO_BIOLOGICO EDAD FACULTAD   \n",
       "18126 MUJER          18   C. HUMANAS \n",
       "12832 HOMBRE         22   F.QUÍMICAS \n",
       "16073 HOMBRE         19   F.MECÁNICAS\n",
       "9568  HOMBRE         19   F.QUÍMICAS \n",
       "17801 MUJER          18   C. HUMANAS \n",
       "20659 HOMBRE         20   F.QUÍMICAS "
      ]
     },
     "metadata": {},
     "output_type": "display_data"
    }
   ],
   "source": [
    "tamaño<-sample.size.prop(e=0.05, P = 0.5, N = length(edades$EDAD), level = 0.95)$n # Vamos a usar P = 0.5\n",
    "muestra<-sample(1:length(edades$EDAD), size = tamaño, replace = FALSE) # Diseñamos un M.A.S.\n",
    "mas.edades<-edades[muestra,] # Tenemos la muestra\n",
    "head(mas.edades)"
   ]
  },
  {
   "cell_type": "markdown",
   "metadata": {
    "slideshow": {
     "slide_type": "subslide"
    }
   },
   "source": [
    "Ya lo hicimos en el módulo de muestreo, pero, vamos a calcular por separado los parámetros:"
   ]
  },
  {
   "cell_type": "code",
   "execution_count": 4,
   "metadata": {
    "slideshow": {
     "slide_type": "subslide"
    }
   },
   "outputs": [
    {
     "data": {
      "text/html": [
       "23"
      ],
      "text/latex": [
       "23"
      ],
      "text/markdown": [
       "23"
      ],
      "text/plain": [
       "[1] 23"
      ]
     },
     "metadata": {},
     "output_type": "display_data"
    }
   ],
   "source": [
    "# Media Poblacional\n",
    "round(mean(edades$EDAD),1)"
   ]
  },
  {
   "cell_type": "code",
   "execution_count": 5,
   "metadata": {
    "slideshow": {
     "slide_type": "subslide"
    }
   },
   "outputs": [
    {
     "data": {
      "text/html": [
       "22.9"
      ],
      "text/latex": [
       "22.9"
      ],
      "text/markdown": [
       "22.9"
      ],
      "text/plain": [
       "[1] 22.9"
      ]
     },
     "metadata": {},
     "output_type": "display_data"
    }
   ],
   "source": [
    "# Media Muestral\n",
    "round(mean(mas.edades$EDAD),1)"
   ]
  },
  {
   "cell_type": "markdown",
   "metadata": {
    "slideshow": {
     "slide_type": "subslide"
    }
   },
   "source": [
    "Ahora, calculemos la varianza. Tengamos en cuenta que estos parámetros no son equivalentes:\n",
    "\n",
    "$$\n",
    "\\frac{\\sum_{i=1}^{N} \\left( X_{i} - \\mu \\right)^{2}}{N} \\not\\equiv \\frac{\\sum_{i=1}^{n} \\left( x_{i} - \\overline{x} \\right)^{2}}{n-1}\n",
    "$$\n",
    "\n",
    "Debemos tener en cuenta que las funciones de los paquetes estadísticos, por defecto, calculan la varianza muestral; por lo tanto, debemos hacer la respectiva corrección $\\left(N-1\\right) / N$"
   ]
  },
  {
   "cell_type": "code",
   "execution_count": 6,
   "metadata": {
    "slideshow": {
     "slide_type": "subslide"
    }
   },
   "outputs": [
    {
     "data": {
      "text/html": [
       "32.795"
      ],
      "text/latex": [
       "32.795"
      ],
      "text/markdown": [
       "32.795"
      ],
      "text/plain": [
       "[1] 32.795"
      ]
     },
     "metadata": {},
     "output_type": "display_data"
    }
   ],
   "source": [
    "N<-length(edades$EDAD) # El tamaño de la población\n",
    "round(var(edades$EDAD),3) # Varianza sin corrección"
   ]
  },
  {
   "cell_type": "code",
   "execution_count": 7,
   "metadata": {
    "slideshow": {
     "slide_type": "subslide"
    }
   },
   "outputs": [
    {
     "data": {
      "text/html": [
       "32.793"
      ],
      "text/latex": [
       "32.793"
      ],
      "text/markdown": [
       "32.793"
      ],
      "text/plain": [
       "[1] 32.793"
      ]
     },
     "metadata": {},
     "output_type": "display_data"
    }
   ],
   "source": [
    "round(var(edades$EDAD)*((N-1)/N),3) # Varianza Corregida"
   ]
  },
  {
   "cell_type": "markdown",
   "metadata": {
    "slideshow": {
     "slide_type": "subslide"
    }
   },
   "source": [
    "También podemos usar una función específica `popvar` de la librería `rafalib`:"
   ]
  },
  {
   "cell_type": "code",
   "execution_count": 8,
   "metadata": {
    "slideshow": {
     "slide_type": "subslide"
    }
   },
   "outputs": [
    {
     "data": {
      "text/html": [
       "32.793"
      ],
      "text/latex": [
       "32.793"
      ],
      "text/markdown": [
       "32.793"
      ],
      "text/plain": [
       "[1] 32.793"
      ]
     },
     "metadata": {},
     "output_type": "display_data"
    }
   ],
   "source": [
    "#install.packages('rafalib')\n",
    "library(rafalib)\n",
    "round(popvar(edades$EDAD),3)"
   ]
  },
  {
   "cell_type": "markdown",
   "metadata": {
    "slideshow": {
     "slide_type": "subslide"
    }
   },
   "source": [
    "Para la varianza muestral no requerimos ajustes:"
   ]
  },
  {
   "cell_type": "code",
   "execution_count": 9,
   "metadata": {
    "scrolled": true,
    "slideshow": {
     "slide_type": "subslide"
    }
   },
   "outputs": [
    {
     "data": {
      "text/html": [
       "27.454"
      ],
      "text/latex": [
       "27.454"
      ],
      "text/markdown": [
       "27.454"
      ],
      "text/plain": [
       "[1] 27.454"
      ]
     },
     "metadata": {},
     "output_type": "display_data"
    }
   ],
   "source": [
    "round(var(mas.edades$EDAD),3)"
   ]
  },
  {
   "cell_type": "markdown",
   "metadata": {
    "slideshow": {
     "slide_type": "slide"
    }
   },
   "source": [
    "## Estimación por Máxima Verosimilitud\n",
    "\n",
    "Consideremos los siguiente: $x_{1}, x_{2}, \\dots, x_{n}$ corresponde a una m.a.s. de una población $X$ con una distribución de probabilidad $f(x|\\theta)$ siendo $\\theta$ un parámetro desconocido. Entonces, la función de verosimilitud se define como:\n",
    "\n",
    "$$\n",
    "L(\\theta) = f \\left(x_{1}, x_{2}, \\dots, x_{n}|\\theta\\right)\n",
    "$$\n",
    "\n",
    "Como cada $x_{i}$ corresponde a una realización de la v.a. $X_{i}$ y sonm independientes e identicamente distribuidas (_idd_) la función de verosimilitud se escribe:\n",
    "\n",
    "$$\n",
    "L(\\theta) = \\prod_{i=1}^{n}f(x_{i}|\\theta)\n",
    "$$"
   ]
  },
  {
   "cell_type": "markdown",
   "metadata": {
    "slideshow": {
     "slide_type": "subslide"
    }
   },
   "source": [
    "La teoría nos indica que para encontrar el estimador máximo verosímil (_EMV_) para el parámetro poblacional desconocido $\\theta$, debemos resolver el siguiente problema de maximización:\n",
    "\n",
    "$$\n",
    "\\underset{\\widehat{\\theta}}{max} \\; L(\\theta) \\text{ o bien } \\underset{\\widehat{\\theta}}{max}\\; ln\\, L(\\theta)\n",
    "$$\n",
    "\n",
    "Computacionalmente, el problema consiste en minimizar el negativo de la función de log-verisimilitud ya que $max\\;Z = min\\;(-Z)$ siendo $Z$ una función cualquiera. Entonces, se tiene:\n",
    "\n",
    "$$\n",
    "- ln\\, L(\\theta) = - ln \\prod_{i=1}^{n} f\\left( x_{i}|\\theta\\right) = - \\sum_{i=1}^{n} ln\\, f\\left( x_{i}|\\theta\\right)\n",
    "$$"
   ]
  },
  {
   "cell_type": "markdown",
   "metadata": {
    "slideshow": {
     "slide_type": "slide"
    }
   },
   "source": [
    "## Ejemplo\n",
    "\n",
    "Sigamos con el ejemplo de las edades y estimemos por _MV_ los parámetros.\n",
    "\n",
    "Podemos usar dos funciones (no necesariamente ambas) `mle` y `mle2`. Cabe la posibildad que alguna librería no se encuentre actualizada\n",
    "\n",
    "Primero, necesitamos instalar algunos paquetes:"
   ]
  },
  {
   "cell_type": "code",
   "execution_count": 10,
   "metadata": {
    "slideshow": {
     "slide_type": "subslide"
    }
   },
   "outputs": [],
   "source": [
    "#install.packages(\"bbmle\")\n",
    "#install.packages(\"stats4\")\n",
    "library(stats4) # para la función mle\n",
    "library(bbmle) # para la función mle2"
   ]
  },
  {
   "cell_type": "markdown",
   "metadata": {
    "slideshow": {
     "slide_type": "subslide"
    }
   },
   "source": [
    "Ahora construimos el negativo de la función de log-verosimilitud. Esta función, llamada `NegLogLik` en este caso, depende de los parámetros poblacionales desconocidos media y desviación estándar, $\\mu$ y $\\sigma$ respectivamente:"
   ]
  },
  {
   "cell_type": "code",
   "execution_count": 11,
   "metadata": {
    "slideshow": {
     "slide_type": "subslide"
    }
   },
   "outputs": [],
   "source": [
    "x<-edades$EDAD # Para trabajar con los datos muestrales que requerimos\n",
    "NegLogLik = function(mu,sigma){-sum(dnorm(x,mu,sigma,log = TRUE))}"
   ]
  },
  {
   "cell_type": "markdown",
   "metadata": {
    "slideshow": {
     "slide_type": "subslide"
    }
   },
   "source": [
    "Los parámetros muestrales para hacer las estimaciones"
   ]
  },
  {
   "cell_type": "code",
   "execution_count": 12,
   "metadata": {
    "slideshow": {
     "slide_type": "subslide"
    }
   },
   "outputs": [],
   "source": [
    "m.mu<-mean(mas.edades$EDAD) # Media\n",
    "m.sigma<-sd(mas.edades$EDAD) # Desviación Estándar"
   ]
  },
  {
   "cell_type": "markdown",
   "metadata": {
    "slideshow": {
     "slide_type": "subslide"
    }
   },
   "source": [
    "Construimos los estimadores. El argumento `star=list()` es para ingresar los valores iniciales con los cuales R construirá numéricamente una aproximación de la Matriz Hessiana asociada al problema de optimización"
   ]
  },
  {
   "cell_type": "code",
   "execution_count": 13,
   "metadata": {
    "slideshow": {
     "slide_type": "subslide"
    }
   },
   "outputs": [
    {
     "data": {
      "text/plain": [
       "Maximum likelihood estimation\n",
       "\n",
       "Call:\n",
       "mle(minuslogl = NegLogLik, start = list(mu = m.mu, sigma = m.sigma))\n",
       "\n",
       "Coefficients:\n",
       "       Estimate Std. Error\n",
       "mu    22.997172 0.03693371\n",
       "sigma  5.726511 0.02611588\n",
       "\n",
       "-2 log L: 152127.5 "
      ]
     },
     "metadata": {},
     "output_type": "display_data"
    }
   ],
   "source": [
    "EMV1 = mle(NegLogLik, start = list(mu=m.mu, sigma=m.sigma))\n",
    "summary(EMV1) # Para visualizar los valores"
   ]
  },
  {
   "cell_type": "code",
   "execution_count": 14,
   "metadata": {
    "scrolled": true,
    "slideshow": {
     "slide_type": "subslide"
    }
   },
   "outputs": [
    {
     "data": {
      "text/plain": [
       "Maximum likelihood estimation\n",
       "\n",
       "Call:\n",
       "mle2(minuslogl = NegLogLik, start = list(mu = m.mu, sigma = m.sigma), \n",
       "    data = list(x))\n",
       "\n",
       "Coefficients:\n",
       "       Estimate Std. Error z value     Pr(z)    \n",
       "mu    22.997172   0.036934  622.66 < 2.2e-16 ***\n",
       "sigma  5.726511   0.026116  219.27 < 2.2e-16 ***\n",
       "---\n",
       "Signif. codes:  0 '***' 0.001 '**' 0.01 '*' 0.05 '.' 0.1 ' ' 1\n",
       "\n",
       "-2 log L: 152127.5 "
      ]
     },
     "metadata": {},
     "output_type": "display_data"
    }
   ],
   "source": [
    "EMV2 = mle2(NegLogLik,start = list(mu=m.mu,sigma=m.sigma), data = list(x)) # La otra función\n",
    "summary(EMV2)"
   ]
  },
  {
   "cell_type": "markdown",
   "metadata": {
    "slideshow": {
     "slide_type": "slide"
    }
   },
   "source": [
    "## Intervalos de Confianza"
   ]
  },
  {
   "cell_type": "markdown",
   "metadata": {
    "slideshow": {
     "slide_type": "subslide"
    }
   },
   "source": [
    "El intervalo de confianza describe la variabilidad entre la medida obtenida en un estudio y la medida real de la población (el valor real). Corresponde a un rango de valores, cuya distribución es normal y en el cual se encuentra, con alta probabilidad, el valor real de una determinada variable.\n",
    "\n",
    "Se trata de un par de números (o varios pares de números) dentro de los cuales se estima se encuentra un parámetro desconocido $\\theta$.\n",
    "\n",
    "Cuando la varianza $\\sigma^{2}$ es conocida, el intervalo de confianza corresponde a:\n",
    "\n",
    "$$\n",
    "I.C \\rightarrow \\mu \\in \\overline{x} \\pm Z_{(1-\\alpha)} \\frac{S_{x}}{\\sqrt{n}}\n",
    "$$\n",
    "\n",
    "Donde\n",
    "\n",
    "* $1-\\alpha$ es el nivel de confianza deseado\n",
    "* $Z_{1-\\alpha}$ es el valor de la distribución normal estándar que corresponde al nivel de confianza deseado.\n",
    "* $\\frac{S_{x}}{\\sqrt{n}}$ es el error estándar de la media"
   ]
  },
  {
   "cell_type": "markdown",
   "metadata": {
    "slideshow": {
     "slide_type": "subslide"
    }
   },
   "source": [
    "Los niveles de confianza más comunes son:\n",
    "\n",
    "* 0.90 o 90% $\\rightarrow Z = 1.64$\n",
    "* 0.95 o 95% $\\rightarrow Z = 1.96$\n",
    "* 0.99 o 99% $\\rightarrow Z = 2.57$"
   ]
  },
  {
   "cell_type": "code",
   "execution_count": 15,
   "metadata": {
    "slideshow": {
     "slide_type": "subslide"
    }
   },
   "outputs": [
    {
     "name": "stderr",
     "output_type": "stream",
     "text": [
      "Loading required package: car\n",
      "Loading required package: carData\n",
      "Loading required package: sandwich\n",
      "Registered S3 methods overwritten by 'ggplot2':\n",
      "  method         from \n",
      "  [.quosures     rlang\n",
      "  c.quosures     rlang\n",
      "  print.quosures rlang\n"
     ]
    },
    {
     "data": {
      "image/png": "[encoded data removed]",
      "text/plain": [
       "Plot with title \"Distribución Normal Estándar\""
      ]
     },
     "metadata": {},
     "output_type": "display_data"
    }
   ],
   "source": [
    "# La gráfica de la distribución normal estándar\n",
    "library(RcmdrMisc)\n",
    "x <- seq(-3, 3, length.out=1000)  \n",
    "plotDistr(x, dnorm(x, mean=0, sd=1), cdf=FALSE, xlab=\"x\", ylab=\"Density\", main=paste(\"Distribución Normal Estándar\"), \n",
    "  regions=list(c(-1.96, 1.96)), col=c('#BEBEBE', '#BEBEBE'), legend.pos='topright')"
   ]
  },
  {
   "cell_type": "markdown",
   "metadata": {
    "slideshow": {
     "slide_type": "slide"
    }
   },
   "source": [
    "Sigamos con el ejemplo de las edades de los estudiantes:"
   ]
  },
  {
   "cell_type": "code",
   "execution_count": 16,
   "metadata": {
    "slideshow": {
     "slide_type": "subslide"
    }
   },
   "outputs": [
    {
     "data": {
      "text/plain": [
       "   Min. 1st Qu.  Median    Mean 3rd Qu.    Max. \n",
       "  16.00   19.00   22.00   22.86   24.00   50.00 "
      ]
     },
     "metadata": {},
     "output_type": "display_data"
    }
   ],
   "source": [
    "# Primero los descriptivos básicos:\n",
    "summary(mas.edades$EDAD)"
   ]
  },
  {
   "cell_type": "code",
   "execution_count": 17,
   "metadata": {
    "slideshow": {
     "slide_type": "subslide"
    }
   },
   "outputs": [
    {
     "data": {
      "text/html": [
       "5.23965051706779"
      ],
      "text/latex": [
       "5.23965051706779"
      ],
      "text/markdown": [
       "5.23965051706779"
      ],
      "text/plain": [
       "[1] 5.239651"
      ]
     },
     "metadata": {},
     "output_type": "display_data"
    }
   ],
   "source": [
    "sd(mas.edades$EDAD)"
   ]
  },
  {
   "cell_type": "markdown",
   "metadata": {
    "slideshow": {
     "slide_type": "subslide"
    }
   },
   "source": [
    "Ahora, calculemos el intervalo:"
   ]
  },
  {
   "cell_type": "code",
   "execution_count": 18,
   "metadata": {
    "slideshow": {
     "slide_type": "subslide"
    }
   },
   "outputs": [],
   "source": [
    "media <- mean(na.omit(mas.edades$EDAD)) # Pedimos la media\n",
    "desv <- sd(na.omit(mas.edades$EDAD)) # La desviación estándar\n",
    "N <- length(na.omit(mas.edades$EDAD)) # El tamaño válido de la muestra\n",
    "error.est <- desv/sqrt(N) # Calculamos el error estándar\n",
    "error <- 2*error.est # Fijamos Z=2 para indicar un nivel de confianza de 95%\n",
    "lim.inf <- media-error # Límite inferior del intervalo\n",
    "lim.sup <- media+error # Límite superior del intervalo"
   ]
  },
  {
   "cell_type": "code",
   "execution_count": 19,
   "metadata": {
    "scrolled": true,
    "slideshow": {
     "slide_type": "subslide"
    }
   },
   "outputs": [
    {
     "data": {
      "text/html": [
       "<table>\n",
       "<caption>A data.frame: 1 × 7</caption>\n",
       "<thead>\n",
       "\t<tr><th scope=col>media</th><th scope=col>desv</th><th scope=col>N</th><th scope=col>error.est</th><th scope=col>error</th><th scope=col>lim.inf</th><th scope=col>lim.sup</th></tr>\n",
       "\t<tr><th scope=col>&lt;dbl&gt;</th><th scope=col>&lt;dbl&gt;</th><th scope=col>&lt;int&gt;</th><th scope=col>&lt;dbl&gt;</th><th scope=col>&lt;dbl&gt;</th><th scope=col>&lt;dbl&gt;</th><th scope=col>&lt;dbl&gt;</th></tr>\n",
       "</thead>\n",
       "<tbody>\n",
       "\t<tr><td>22.86016</td><td>5.239651</td><td>379</td><td>0.2691428</td><td>0.5382855</td><td>22.32187</td><td>23.39844</td></tr>\n",
       "</tbody>\n",
       "</table>\n"
      ],
      "text/latex": [
       "A data.frame: 1 × 7\n",
       "\\begin{tabular}{r|lllllll}\n",
       " media & desv & N & error.est & error & lim.inf & lim.sup\\\\\n",
       " <dbl> & <dbl> & <int> & <dbl> & <dbl> & <dbl> & <dbl>\\\\\n",
       "\\hline\n",
       "\t 22.86016 & 5.239651 & 379 & 0.2691428 & 0.5382855 & 22.32187 & 23.39844\\\\\n",
       "\\end{tabular}\n"
      ],
      "text/markdown": [
       "\n",
       "A data.frame: 1 × 7\n",
       "\n",
       "| media &lt;dbl&gt; | desv &lt;dbl&gt; | N &lt;int&gt; | error.est &lt;dbl&gt; | error &lt;dbl&gt; | lim.inf &lt;dbl&gt; | lim.sup &lt;dbl&gt; |\n",
       "|---|---|---|---|---|---|---|\n",
       "| 22.86016 | 5.239651 | 379 | 0.2691428 | 0.5382855 | 22.32187 | 23.39844 |\n",
       "\n"
      ],
      "text/plain": [
       "  media    desv     N   error.est error     lim.inf  lim.sup \n",
       "1 22.86016 5.239651 379 0.2691428 0.5382855 22.32187 23.39844"
      ]
     },
     "metadata": {},
     "output_type": "display_data"
    }
   ],
   "source": [
    "# Guardamos todos los datos generados en un objeto data frame\n",
    "resultado1 <- data.frame(media, desv, N, error.est, error, lim.inf, lim.sup)\n",
    "resultado1"
   ]
  },
  {
   "cell_type": "markdown",
   "metadata": {
    "slideshow": {
     "slide_type": "slide"
    }
   },
   "source": [
    "Otra forma de estimar el intervalo de confianza es mediante la función `z.test` de la librería `TeachingDemos` que, a la vez, nos sirve para determinar si el valor de la media es el correcto:"
   ]
  },
  {
   "cell_type": "code",
   "execution_count": 20,
   "metadata": {
    "slideshow": {
     "slide_type": "subslide"
    }
   },
   "outputs": [],
   "source": [
    "library(TeachingDemos) # Para usar la función z.test()"
   ]
  },
  {
   "cell_type": "code",
   "execution_count": 21,
   "metadata": {
    "scrolled": true,
    "slideshow": {
     "slide_type": "subslide"
    }
   },
   "outputs": [
    {
     "data": {
      "text/plain": [
       "\n",
       "\tOne Sample z-test\n",
       "\n",
       "data:  mas.edades$EDAD\n",
       "z = -0.50907, n = 379.00000, Std. Dev. = 5.23965, Std. Dev. of the\n",
       "sample mean = 0.26914, p-value = 0.6107\n",
       "alternative hypothesis: true mean is not equal to 22.99717\n",
       "95 percent confidence interval:\n",
       " 22.33265 23.38767\n",
       "sample estimates:\n",
       "mean of mas.edades$EDAD \n",
       "               22.86016 \n"
      ]
     },
     "metadata": {},
     "output_type": "display_data"
    }
   ],
   "source": [
    "z.test(mas.edades$EDAD, stdev = sd(mas.edades$EDAD), mu = mean(edades$EDAD))"
   ]
  },
  {
   "cell_type": "markdown",
   "metadata": {
    "slideshow": {
     "slide_type": "slide"
    }
   },
   "source": [
    "Un parámetro que, por lo general, se desconoce es la varianza. Cuando esto ocurre, no se emplea la disteibucion _Z_ sino la distribución _t-student_:\n",
    "\n",
    "$$\n",
    "I.C \\rightarrow \\mu \\in \\overline{x} \\pm t \\frac{S_{x}}{\\sqrt{n}}\n",
    "$$"
   ]
  },
  {
   "cell_type": "code",
   "execution_count": 22,
   "metadata": {
    "slideshow": {
     "slide_type": "subslide"
    }
   },
   "outputs": [
    {
     "data": {
      "image/png": "[encoded data removed]",
      "text/plain": [
       "Plot with title \"Distribución t-student\""
      ]
     },
     "metadata": {},
     "output_type": "display_data"
    }
   ],
   "source": [
    "# La Gráfica de la distribución t-student:\n",
    "curve(dt(x, df = 30), from = -3, to = 3, lwd = 3, ylab = \"y\", main = \"Distribución t-student\")\n",
    "ind <- c(1, 2, 3, 5, 10)\n",
    "for (i in ind) curve(dt(x, df = i), -3, 3, add = TRUE,col=i)"
   ]
  },
  {
   "cell_type": "code",
   "execution_count": 23,
   "metadata": {
    "slideshow": {
     "slide_type": "subslide"
    }
   },
   "outputs": [],
   "source": [
    "media <- mean(na.omit(mas.edades$EDAD))\n",
    "desv <- sd(na.omit(mas.edades$EDAD))\n",
    "N <- length(na.omit(mas.edades$EDAD))\n",
    "error.est <- desv/sqrt(N)\n",
    "error <- qt(0.975, df= N-1) * error.est # Usar el cuantil 0.975 de t\n",
    "lim.inf <- media-error\n",
    "lim.sup <- media+error"
   ]
  },
  {
   "cell_type": "code",
   "execution_count": 24,
   "metadata": {
    "slideshow": {
     "slide_type": "subslide"
    }
   },
   "outputs": [
    {
     "data": {
      "text/html": [
       "<table>\n",
       "<caption>A data.frame: 1 × 7</caption>\n",
       "<thead>\n",
       "\t<tr><th scope=col>media</th><th scope=col>desv</th><th scope=col>N</th><th scope=col>error.est</th><th scope=col>error</th><th scope=col>lim.inf</th><th scope=col>lim.sup</th></tr>\n",
       "\t<tr><th scope=col>&lt;dbl&gt;</th><th scope=col>&lt;dbl&gt;</th><th scope=col>&lt;int&gt;</th><th scope=col>&lt;dbl&gt;</th><th scope=col>&lt;dbl&gt;</th><th scope=col>&lt;dbl&gt;</th><th scope=col>&lt;dbl&gt;</th></tr>\n",
       "</thead>\n",
       "<tbody>\n",
       "\t<tr><td>22.86016</td><td>5.239651</td><td>379</td><td>0.2691428</td><td>0.5292046</td><td>22.33095</td><td>23.38936</td></tr>\n",
       "</tbody>\n",
       "</table>\n"
      ],
      "text/latex": [
       "A data.frame: 1 × 7\n",
       "\\begin{tabular}{r|lllllll}\n",
       " media & desv & N & error.est & error & lim.inf & lim.sup\\\\\n",
       " <dbl> & <dbl> & <int> & <dbl> & <dbl> & <dbl> & <dbl>\\\\\n",
       "\\hline\n",
       "\t 22.86016 & 5.239651 & 379 & 0.2691428 & 0.5292046 & 22.33095 & 23.38936\\\\\n",
       "\\end{tabular}\n"
      ],
      "text/markdown": [
       "\n",
       "A data.frame: 1 × 7\n",
       "\n",
       "| media &lt;dbl&gt; | desv &lt;dbl&gt; | N &lt;int&gt; | error.est &lt;dbl&gt; | error &lt;dbl&gt; | lim.inf &lt;dbl&gt; | lim.sup &lt;dbl&gt; |\n",
       "|---|---|---|---|---|---|---|\n",
       "| 22.86016 | 5.239651 | 379 | 0.2691428 | 0.5292046 | 22.33095 | 23.38936 |\n",
       "\n"
      ],
      "text/plain": [
       "  media    desv     N   error.est error     lim.inf  lim.sup \n",
       "1 22.86016 5.239651 379 0.2691428 0.5292046 22.33095 23.38936"
      ]
     },
     "metadata": {},
     "output_type": "display_data"
    }
   ],
   "source": [
    "resultado2 <- data.frame(media, desv, N, error.est, error, lim.inf, lim.sup)\n",
    "resultado2"
   ]
  },
  {
   "cell_type": "markdown",
   "metadata": {
    "slideshow": {
     "slide_type": "subslide"
    }
   },
   "source": [
    "O usando la función `t.test`:"
   ]
  },
  {
   "cell_type": "code",
   "execution_count": 25,
   "metadata": {
    "slideshow": {
     "slide_type": "subslide"
    }
   },
   "outputs": [
    {
     "data": {
      "text/plain": [
       "\n",
       "\tOne Sample t-test\n",
       "\n",
       "data:  mas.edades$EDAD\n",
       "t = -0.50907, df = 378, p-value = 0.611\n",
       "alternative hypothesis: true mean is not equal to 22.99717\n",
       "95 percent confidence interval:\n",
       " 22.33095 23.38936\n",
       "sample estimates:\n",
       "mean of x \n",
       " 22.86016 \n"
      ]
     },
     "metadata": {},
     "output_type": "display_data"
    }
   ],
   "source": [
    "t.test(mas.edades$EDAD, mu = mean(edades$EDAD))"
   ]
  },
  {
   "cell_type": "markdown",
   "metadata": {
    "slideshow": {
     "slide_type": "slide"
    }
   },
   "source": [
    "Cuando se trata de proporciones, el intervalo de confianza se estima mediante:\n",
    "\n",
    "$$\n",
    "I.C. \\rightarrow \\pi \\in p \\pm Z \\sqrt{\\frac{p (1 - p)}{n}}\n",
    "$$"
   ]
  },
  {
   "cell_type": "code",
   "execution_count": 27,
   "metadata": {
    "slideshow": {
     "slide_type": "subslide"
    }
   },
   "outputs": [
    {
     "data": {
      "text/html": [
       "<table>\n",
       "<caption>A S3: freqtable: 3 × 2 of type S3: freqtable</caption>\n",
       "<thead>\n",
       "\t<tr><th></th><th scope=col>Frequency</th><th scope=col>Percent</th></tr>\n",
       "</thead>\n",
       "<tbody>\n",
       "\t<tr><th scope=row>HOMBRE</th><td>220</td><td> 58.04749</td></tr>\n",
       "\t<tr><th scope=row>MUJER</th><td>159</td><td> 41.95251</td></tr>\n",
       "\t<tr><th scope=row>Total</th><td>379</td><td>100.00000</td></tr>\n",
       "</tbody>\n",
       "</table>\n"
      ],
      "text/latex": [
       "A S3: freqtable: 3 × 2 of type S3: freqtable\n",
       "\\begin{tabular}{r|ll}\n",
       "  & Frequency & Percent\\\\\n",
       "\\hline\n",
       "\tHOMBRE & 220 &  58.04749\\\\\n",
       "\tMUJER & 159 &  41.95251\\\\\n",
       "\tTotal & 379 & 100.00000\\\\\n",
       "\\end{tabular}\n"
      ],
      "text/markdown": [
       "\n",
       "A S3: freqtable: 3 × 2 of type S3: freqtable\n",
       "\n",
       "| <!--/--> | Frequency | Percent |\n",
       "|---|---|---|\n",
       "| HOMBRE | 220 |  58.04749 |\n",
       "| MUJER | 159 |  41.95251 |\n",
       "| Total | 379 | 100.00000 |\n",
       "\n"
      ],
      "text/plain": [
       "       Frequency Percent  \n",
       "HOMBRE 220        58.04749\n",
       "MUJER  159        41.95251\n",
       "Total  379       100.00000"
      ]
     },
     "metadata": {},
     "output_type": "display_data"
    }
   ],
   "source": [
    "library(descr)\n",
    "freq(mas.edades$SEXO_BIOLOGICO, plot = FALSE)"
   ]
  },
  {
   "cell_type": "markdown",
   "metadata": {
    "slideshow": {
     "slide_type": "subslide"
    }
   },
   "source": [
    "Preparamos los datos para el cálculo del intervalo de confianza, en este caso vamos a seleccionar una categoría: `HOMBRE` en la distribución de `SEXO_BIOLOGICO`:"
   ]
  },
  {
   "cell_type": "code",
   "execution_count": 28,
   "metadata": {
    "scrolled": true,
    "slideshow": {
     "slide_type": "subslide"
    }
   },
   "outputs": [
    {
     "data": {
      "text/plain": [
       "cat\n",
       "        0         1 \n",
       "0.4195251 0.5804749 "
      ]
     },
     "metadata": {},
     "output_type": "display_data"
    }
   ],
   "source": [
    "cat <- ifelse(mas.edades$SEXO_BIOLOGICO==\"HOMBRE\", 1, 0)\n",
    "prop.table(table(cat))"
   ]
  },
  {
   "cell_type": "code",
   "execution_count": 29,
   "metadata": {
    "slideshow": {
     "slide_type": "subslide"
    }
   },
   "outputs": [
    {
     "data": {
      "text/html": [
       "0.580474934036939"
      ],
      "text/latex": [
       "0.580474934036939"
      ],
      "text/markdown": [
       "0.580474934036939"
      ],
      "text/plain": [
       "[1] 0.5804749"
      ]
     },
     "metadata": {},
     "output_type": "display_data"
    }
   ],
   "source": [
    "p <- mean(cat)\n",
    "p # Esta es la proporción de estudiantes hombres"
   ]
  },
  {
   "cell_type": "code",
   "execution_count": 30,
   "metadata": {
    "slideshow": {
     "slide_type": "subslide"
    }
   },
   "outputs": [],
   "source": [
    "n <- length(cat) # Tamaño de la muestra \n",
    "error.est.p <- sqrt((p*(1-p))/n) # Error estándar de la propoción\n",
    "error.p <- 2 * error.est.p # Usamos Z = 2 para indicar un nivel de confianza del 95%\n",
    "lim.inf.p <- p - error.p \n",
    "lim.sup.p <- p + error.p"
   ]
  },
  {
   "cell_type": "code",
   "execution_count": 31,
   "metadata": {
    "scrolled": true,
    "slideshow": {
     "slide_type": "subslide"
    }
   },
   "outputs": [
    {
     "data": {
      "text/html": [
       "<table>\n",
       "<caption>A data.frame: 1 × 6</caption>\n",
       "<thead>\n",
       "\t<tr><th scope=col>p</th><th scope=col>n</th><th scope=col>error.est.p</th><th scope=col>error.p</th><th scope=col>lim.inf.p</th><th scope=col>lim.sup.p</th></tr>\n",
       "\t<tr><th scope=col>&lt;dbl&gt;</th><th scope=col>&lt;int&gt;</th><th scope=col>&lt;dbl&gt;</th><th scope=col>&lt;dbl&gt;</th><th scope=col>&lt;dbl&gt;</th><th scope=col>&lt;dbl&gt;</th></tr>\n",
       "</thead>\n",
       "<tbody>\n",
       "\t<tr><td>0.5804749</td><td>379</td><td>0.02534843</td><td>0.05069686</td><td>0.5297781</td><td>0.6311718</td></tr>\n",
       "</tbody>\n",
       "</table>\n"
      ],
      "text/latex": [
       "A data.frame: 1 × 6\n",
       "\\begin{tabular}{r|llllll}\n",
       " p & n & error.est.p & error.p & lim.inf.p & lim.sup.p\\\\\n",
       " <dbl> & <int> & <dbl> & <dbl> & <dbl> & <dbl>\\\\\n",
       "\\hline\n",
       "\t 0.5804749 & 379 & 0.02534843 & 0.05069686 & 0.5297781 & 0.6311718\\\\\n",
       "\\end{tabular}\n"
      ],
      "text/markdown": [
       "\n",
       "A data.frame: 1 × 6\n",
       "\n",
       "| p &lt;dbl&gt; | n &lt;int&gt; | error.est.p &lt;dbl&gt; | error.p &lt;dbl&gt; | lim.inf.p &lt;dbl&gt; | lim.sup.p &lt;dbl&gt; |\n",
       "|---|---|---|---|---|---|\n",
       "| 0.5804749 | 379 | 0.02534843 | 0.05069686 | 0.5297781 | 0.6311718 |\n",
       "\n"
      ],
      "text/plain": [
       "  p         n   error.est.p error.p    lim.inf.p lim.sup.p\n",
       "1 0.5804749 379 0.02534843  0.05069686 0.5297781 0.6311718"
      ]
     },
     "metadata": {},
     "output_type": "display_data"
    }
   ],
   "source": [
    "result.p <- data.frame(p, n, error.est.p, error.p, lim.inf.p, lim.sup.p)\n",
    "result.p"
   ]
  },
  {
   "cell_type": "markdown",
   "metadata": {
    "slideshow": {
     "slide_type": "subslide"
    }
   },
   "source": [
    "O usando la función `binconf` de la librería `Hmisc`:"
   ]
  },
  {
   "cell_type": "code",
   "execution_count": 32,
   "metadata": {
    "scrolled": false,
    "slideshow": {
     "slide_type": "subslide"
    }
   },
   "outputs": [
    {
     "name": "stderr",
     "output_type": "stream",
     "text": [
      "Loading required package: lattice\n",
      "Loading required package: Formula\n",
      "Loading required package: ggplot2\n",
      "\n",
      "Attaching package: 'Hmisc'\n",
      "\n",
      "The following objects are masked from 'package:TeachingDemos':\n",
      "\n",
      "    cnvrt.coords, subplot\n",
      "\n",
      "The following object is masked from 'package:RcmdrMisc':\n",
      "\n",
      "    Dotplot\n",
      "\n",
      "The following object is masked from 'package:survey':\n",
      "\n",
      "    deff\n",
      "\n",
      "The following objects are masked from 'package:base':\n",
      "\n",
      "    format.pval, units\n",
      "\n"
     ]
    },
    {
     "data": {
      "text/html": [
       "<table>\n",
       "<caption>A matrix: 1 × 3 of type dbl</caption>\n",
       "<thead>\n",
       "\t<tr><th scope=col>PointEst</th><th scope=col>Lower</th><th scope=col>Upper</th></tr>\n",
       "</thead>\n",
       "<tbody>\n",
       "\t<tr><td>0.5751979</td><td>0.5249222</td><td>0.6239645</td></tr>\n",
       "</tbody>\n",
       "</table>\n"
      ],
      "text/latex": [
       "A matrix: 1 × 3 of type dbl\n",
       "\\begin{tabular}{r|lll}\n",
       " PointEst & Lower & Upper\\\\\n",
       "\\hline\n",
       "\t 0.5751979 & 0.5249222 & 0.6239645\\\\\n",
       "\\end{tabular}\n"
      ],
      "text/markdown": [
       "\n",
       "A matrix: 1 × 3 of type dbl\n",
       "\n",
       "| PointEst | Lower | Upper |\n",
       "|---|---|---|\n",
       "| 0.5751979 | 0.5249222 | 0.6239645 |\n",
       "\n"
      ],
      "text/plain": [
       " PointEst  Lower     Upper    \n",
       " 0.5751979 0.5249222 0.6239645"
      ]
     },
     "metadata": {},
     "output_type": "display_data"
    }
   ],
   "source": [
    "library(Hmisc)\n",
    "binconf(x = 218, n = 379)"
   ]
  },
  {
   "cell_type": "markdown",
   "metadata": {
    "slideshow": {
     "slide_type": "slide"
    }
   },
   "source": [
    "Gráficamente, ¿cómo lo podemos representar? Una opción es las gráficas de error"
   ]
  },
  {
   "cell_type": "code",
   "execution_count": 34,
   "metadata": {
    "slideshow": {
     "slide_type": "subslide"
    }
   },
   "outputs": [
    {
     "data": {
      "image/png": "[encoded data removed]",
      "text/plain": [
       "plot without title"
      ]
     },
     "metadata": {},
     "output_type": "display_data"
    }
   ],
   "source": [
    "library(plotrix)\n",
    "plotCI(mean(mas.edades$EDAD), ui = lim.sup, li = lim.inf, xlab = 'Edades', ylab = 'Intervalo de Confianza', pch = 19)"
   ]
  }
 ],
 "metadata": {
  "celltoolbar": "Slideshow",
  "kernelspec": {
   "display_name": "R",
   "language": "R",
   "name": "ir"
  },
  "language_info": {
   "codemirror_mode": "r",
   "file_extension": ".r",
   "mimetype": "text/x-r-source",
   "name": "R",
   "pygments_lexer": "r",
   "version": "3.6.0"
  }
 },
 "nbformat": 4,
 "nbformat_minor": 2
}
